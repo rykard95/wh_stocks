{
 "cells": [
  {
   "cell_type": "markdown",
   "metadata": {},
   "source": [
    "# April 10th, 2017\n",
    "\n",
    "### Completed\n",
    "- LDA\n",
    "- Labelling\n",
    "\n",
    "### Incomplete\n",
    "- Featurization\n",
    "\n",
    "### Next Steps\n",
    "- Classify emails into the topics using cosine similarity\n",
    "\n"
   ]
  }
 ],
 "metadata": {
  "kernelspec": {
   "display_name": "Python 3",
   "language": "python",
   "name": "python3"
  },
  "language_info": {
   "codemirror_mode": {
    "name": "ipython",
    "version": 3
   },
   "file_extension": ".py",
   "mimetype": "text/x-python",
   "name": "python",
   "nbconvert_exporter": "python",
   "pygments_lexer": "ipython3",
   "version": "3.5.1"
  }
 },
 "nbformat": 4,
 "nbformat_minor": 1
}
