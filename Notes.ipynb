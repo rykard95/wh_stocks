{
 "cells": [
  {
   "cell_type": "markdown",
   "metadata": {},
   "source": [
    "# April 10th, 2017\n",
    "\n",
    "### Completed\n",
    "- LDA\n",
    "- Labelling\n",
    "\n",
    "### Incomplete\n",
    "- Featurization\n",
    "\n",
    "### Next Steps\n",
    "- ~~Merge Jon's Code (Richard)~~\n",
    "- Mean of Proportions (Richard)\n",
    "- Classify emails into the topics using cosine similarity (Jon)\n",
    "- Compare most frequent words (Richard)\n",
    "- Pull out Named Entities\n",
    "- Get average sentiment of each topic (Richard)\n",
    "- Statistic on average motion per day given posts and topic (Jon)\n",
    "- Differences between topic 0 and the others (Jon)\n",
    "- Visualization Code (Jon and Richard)\n",
    "\n",
    "### Insights\n",
    "- Topic 0 seems to be the largest indicator of motion ~ 30points\n",
    "    - This one deals with regulation and costs\n",
    "\n",
    "\n",
    "### Due - Wednesday after 12pm\n"
   ]
  },
  {
   "cell_type": "code",
   "execution_count": null,
   "metadata": {
    "collapsed": true
   },
   "outputs": [],
   "source": []
  }
 ],
 "metadata": {
  "kernelspec": {
   "display_name": "Python 3",
   "language": "python",
   "name": "python3"
  },
  "language_info": {
   "codemirror_mode": {
    "name": "ipython",
    "version": 3
   },
   "file_extension": ".py",
   "mimetype": "text/x-python",
   "name": "python",
   "nbconvert_exporter": "python",
   "pygments_lexer": "ipython3",
   "version": "3.5.1"
  }
 },
 "nbformat": 4,
 "nbformat_minor": 1
}
