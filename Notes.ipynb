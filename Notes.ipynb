{
 "cells": [
  {
   "cell_type": "markdown",
   "metadata": {},
   "source": [
    "# April 10th, 2017\n",
    "\n",
    "### Completed\n",
    "- LDA\n",
    "- Labelling\n",
    "\n",
    "### Incomplete\n",
    "- Featurization\n",
    "\n",
    "### Next Steps\n",
    "- ~~Merge Jon's Code (Richard)~~\n",
    "- ~~Mean of Proportions (Richard)~~\n",
    "- Classify emails into the topics using cosine similarity (Jon)\n",
    "- Compare most frequent words (Richard)\n",
    "- Pull out Named Entities\n",
    "- Get average sentiment of each topic (Richard)\n",
    "- Statistic on average motion per day given posts and topic (Jon)\n",
    "- Differences between topic 0 and the others (Jon)\n",
    "- Visualization Code (Jon and Richard)\n",
    "\n",
    "### Insights\n",
    "- Topic 0 seems to be the largest indicator of motion ~ 30points\n",
    "    - This one deals with regulation and costs\n",
    "\n",
    "\n",
    "### Due - Wednesday after 12pm\n"
   ]
  },
  {
   "cell_type": "markdown",
   "metadata": {
    "collapsed": true
   },
   "source": [
    "# April 18th, 2017\n",
    "\n",
    "## Completed \n",
    "- Featurization Analysis\n",
    "- LDA\n",
    "- Visualization of some sort\n",
    "\n",
    "## What is our final goal?\n",
    "- Hierarchical Classifier to Predict Stock market motion\n",
    "\n",
    "## Ideas\n",
    "\n",
    "\n",
    "\n",
    "## Next Steps\n",
    "- Do word analysis on the topic model space\n",
    "- Create Analysis\n",
    "- Finish the notebook\n",
    "\n",
    "\n",
    "## Conventions:\n",
    "- 1 is Topic 1\n",
    "- 0 is Everything else"
   ]
  },
  {
   "cell_type": "markdown",
   "metadata": {},
   "source": [
    "# April 25th, 2017\n",
    "\n",
    "## Completed\n",
    "- Word analysis on the topic model space - results inconclusive\n",
    "- Turned in last assignment\n",
    "\n",
    "## Next Steps\n",
    "- Get Obama's Data (Might confuse us - Richard)\n",
    "    - Get statistics on this data as well (Richard)\n",
    "- Get 70% accuracy for predicting labels (Joint Effort)\n",
    "- Methods to look into\n",
    "    - KNN (Euclidean Distance instead of Cosine Similarity)\n",
    "    - Recurrent Neural Net (?)\n",
    "- How to figure out significant changes in the stock market (Both)\n",
    "- Consolidate all of our information (Richard)\n",
    "- Iron out our operations\n",
    "- Create a diagram of our pipeline (Richard)\n",
    "\n",
    "## Problems\n",
    "- Multiple blog posts on one day after classifying post into topics\n",
    "- What is the threshold for significant?\n",
    "- \n"
   ]
  },
  {
   "cell_type": "code",
   "execution_count": null,
   "metadata": {
    "collapsed": true
   },
   "outputs": [],
   "source": []
  }
 ],
 "metadata": {
  "kernelspec": {
   "display_name": "Python 3",
   "language": "python",
   "name": "python3"
  },
  "language_info": {
   "codemirror_mode": {
    "name": "ipython",
    "version": 3
   },
   "file_extension": ".py",
   "mimetype": "text/x-python",
   "name": "python",
   "nbconvert_exporter": "python",
   "pygments_lexer": "ipython3",
   "version": "3.5.1"
  }
 },
 "nbformat": 4,
 "nbformat_minor": 1
}
