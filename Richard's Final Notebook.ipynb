{
 "cells": [
  {
   "cell_type": "markdown",
   "metadata": {},
   "source": [
    "# How the White House Affects the Stock Market\n",
    "### By Jon Khaykin and Richard Doan\n"
   ]
  },
  {
   "cell_type": "code",
   "execution_count": 1,
   "metadata": {
    "collapsed": false
   },
   "outputs": [],
   "source": [
    "import pandas as pd\n",
    "import numpy as np\n",
    "import seaborn as sb\n",
    "from scipy.signal import wiener\n",
    "import matplotlib.pyplot as plt\n",
    "from scipy.stats import ttest_ind\n",
    "import matplotlib\n",
    "%matplotlib inline  \n",
    "\n",
    "import re\n",
    "\n",
    "from bokeh.io import output_notebook, show\n",
    "from bokeh.charts import Scatter, Line\n",
    "\n",
    "from sklearn.feature_extraction.text import CountVectorizer\n",
    "from sklearn.cluster import DBSCAN\n",
    "from sklearn.decomposition import LatentDirichletAllocation\n",
    "from sklearn.manifold import MDS\n",
    "from sklearn.metrics.pairwise import cosine_distances\n",
    "\n",
    "from sklearn.model_selection import train_test_split as tts\n",
    "from sklearn.metrics import classification_report\n",
    "from sklearn.linear_model import LogisticRegressionCV\n",
    "from sklearn.ensemble import RandomForestClassifier\n",
    "#from pandas_ml import ConfusionMatrix\n",
    "\n",
    "regex = re.compile('[^a-zA-Z ]')\n",
    "\n",
    "def remove_duplicate_dates(df, value_text):\n",
    "    cur_date = None\n",
    "    vals = []\n",
    "    dates = []\n",
    "    for index, row in df.iterrows():\n",
    "        if row['Date'] != cur_date:\n",
    "            vals.append(row[value_text])\n",
    "            dates.append(row['Date'])\n",
    "            cur_date = row['Date']\n",
    "    return pd.Series(vals), dates\n",
    "\n",
    "def print_top_words(model, feature_names, n_top_words):\n",
    "    for topic_idx, topic in enumerate(model.components_):\n",
    "        print(\"\\nTopic {}:\".format(topic_idx))\n",
    "        print(\" \".join([feature_names[i]\n",
    "                        for i in topic.argsort()[:-n_top_words - 1:-1]]))\n",
    "    print()\n",
    "\n",
    "def get_top_words(model, feature_names, n_top_words):\n",
    "    top_words = []\n",
    "    for topic_idx, topic in enumerate(model.components_):\n",
    "        top_words.extend([feature_names[i] for i in topic.argsort()[:-n_top_words - 1:-1]])\n",
    "    return top_words\n",
    "\n",
    "def join_text_on_date(df):\n",
    "    dates = [None]\n",
    "    titles = []\n",
    "    bodies = []\n",
    "    fmp = []\n",
    "    fmd = []\n",
    "    for index, row in df.iterrows():\n",
    "        if row['Date'] == dates[-1]:\n",
    "            titles[-1] = titles[-1] + row['Title']\n",
    "            bodies[-1] = bodies[-1] + row['Body']\n",
    "        else:\n",
    "            dates.append(row['Date'])\n",
    "            fmp.append(row['Filtered Mean Proportion'])\n",
    "            fmd.append(row['Filtered Mean Delta'])\n",
    "            titles.append(row['Title'])\n",
    "            bodies.append(row['Body'])\n",
    "    return pd.DataFrame({'Date': dates[1:], 'Title': titles, 'Body': bodies, \n",
    "                         'Filtered Mean Proportion': fmp, 'Filtered Mean Delta': fmd})\n",
    "\n",
    "def train_test_split(df):\n",
    "    all_indices = np.arange(len(df))\n",
    "    train_indices = np.random.choice(all_indices, 9 * len(all_indices) // 10)\n",
    "    test_indices = np.setdiff1d(all_indices, train_indices)\n",
    "    test_df = df.iloc[test_indices]\n",
    "    df.iloc[test_indices].to_csv('data/dataset-test.csv', index=False)\n",
    "    df.iloc[train_indices].to_csv('data/dataset-train.csv', index=False)"
   ]
  },
  {
   "cell_type": "code",
   "execution_count": 2,
   "metadata": {
    "collapsed": false
   },
   "outputs": [
    {
     "data": {
      "text/html": [
       "\n",
       "    <div class=\"bk-root\">\n",
       "        <a href=\"http://bokeh.pydata.org\" target=\"_blank\" class=\"bk-logo bk-logo-small bk-logo-notebook\"></a>\n",
       "        <span id=\"caf59152-cf64-4edb-a001-e0c44018399d\">Loading BokehJS ...</span>\n",
       "    </div>"
      ]
     },
     "metadata": {},
     "output_type": "display_data"
    },
    {
     "data": {
      "application/javascript": [
       "\n",
       "(function(global) {\n",
       "  function now() {\n",
       "    return new Date();\n",
       "  }\n",
       "\n",
       "  if (typeof (window._bokeh_onload_callbacks) === \"undefined\") {\n",
       "    window._bokeh_onload_callbacks = [];\n",
       "  }\n",
       "\n",
       "  function run_callbacks() {\n",
       "    window._bokeh_onload_callbacks.forEach(function(callback) { callback() });\n",
       "    delete window._bokeh_onload_callbacks\n",
       "    console.info(\"Bokeh: all callbacks have finished\");\n",
       "  }\n",
       "\n",
       "  function load_libs(js_urls, callback) {\n",
       "    window._bokeh_onload_callbacks.push(callback);\n",
       "    if (window._bokeh_is_loading > 0) {\n",
       "      console.log(\"Bokeh: BokehJS is being loaded, scheduling callback at\", now());\n",
       "      return null;\n",
       "    }\n",
       "    if (js_urls == null || js_urls.length === 0) {\n",
       "      run_callbacks();\n",
       "      return null;\n",
       "    }\n",
       "    console.log(\"Bokeh: BokehJS not loaded, scheduling load and callback at\", now());\n",
       "    window._bokeh_is_loading = js_urls.length;\n",
       "    for (var i = 0; i < js_urls.length; i++) {\n",
       "      var url = js_urls[i];\n",
       "      var s = document.createElement('script');\n",
       "      s.src = url;\n",
       "      s.async = false;\n",
       "      s.onreadystatechange = s.onload = function() {\n",
       "        window._bokeh_is_loading--;\n",
       "        if (window._bokeh_is_loading === 0) {\n",
       "          console.log(\"Bokeh: all BokehJS libraries loaded\");\n",
       "          run_callbacks()\n",
       "        }\n",
       "      };\n",
       "      s.onerror = function() {\n",
       "        console.warn(\"failed to load library \" + url);\n",
       "      };\n",
       "      console.log(\"Bokeh: injecting script tag for BokehJS library: \", url);\n",
       "      document.getElementsByTagName(\"head\")[0].appendChild(s);\n",
       "    }\n",
       "  };\n",
       "\n",
       "  var js_urls = ['https://cdn.pydata.org/bokeh/release/bokeh-0.12.0.min.js', 'https://cdn.pydata.org/bokeh/release/bokeh-widgets-0.12.0.min.js', 'https://cdn.pydata.org/bokeh/release/bokeh-compiler-0.12.0.min.js'];\n",
       "\n",
       "  var inline_js = [\n",
       "    function(Bokeh) {\n",
       "      Bokeh.set_log_level(\"info\");\n",
       "    },\n",
       "    \n",
       "    function(Bokeh) {\n",
       "      Bokeh.$(\"#caf59152-cf64-4edb-a001-e0c44018399d\").text(\"BokehJS successfully loaded\");\n",
       "    },\n",
       "    function(Bokeh) {\n",
       "      console.log(\"Bokeh: injecting CSS: https://cdn.pydata.org/bokeh/release/bokeh-0.12.0.min.css\");\n",
       "      Bokeh.embed.inject_css(\"https://cdn.pydata.org/bokeh/release/bokeh-0.12.0.min.css\");\n",
       "      console.log(\"Bokeh: injecting CSS: https://cdn.pydata.org/bokeh/release/bokeh-widgets-0.12.0.min.css\");\n",
       "      Bokeh.embed.inject_css(\"https://cdn.pydata.org/bokeh/release/bokeh-widgets-0.12.0.min.css\");\n",
       "    }\n",
       "  ];\n",
       "\n",
       "  function run_inline_js() {\n",
       "    for (var i = 0; i < inline_js.length; i++) {\n",
       "      inline_js[i](window.Bokeh);\n",
       "    }\n",
       "  }\n",
       "\n",
       "  if (window._bokeh_is_loading === 0) {\n",
       "    console.log(\"Bokeh: BokehJS loaded, going straight to plotting\");\n",
       "    run_inline_js();\n",
       "  } else {\n",
       "    load_libs(js_urls, function() {\n",
       "      console.log(\"Bokeh: BokehJS plotting callback run at\", now());\n",
       "      run_inline_js();\n",
       "    });\n",
       "  }\n",
       "}(this));"
      ]
     },
     "metadata": {},
     "output_type": "display_data"
    }
   ],
   "source": [
    "output_notebook()"
   ]
  },
  {
   "cell_type": "markdown",
   "metadata": {},
   "source": [
    "# Problem Statement\n",
    "\n",
    "We are interested in understanding whether the White House Administration can influence how people feel about the economy. One good indicator of the economy's strength are the top index funds in the stock market: S&P 500, Nasdaq, and Dow Jones (each represents a good mix of businesses within many different industries). \n",
    "\n",
    "**Is there a correlation between White House announcements and movements in the stock market? And if there is, can we predict those movements based on the announcements?**\n",
    "\n",
    "Other works that inspired this include the <a href=\"http://www.npr.org/2017/02/04/513469456/when-trump-tweets-this-bot-makes-money\">twitter bot that traded based off of Donald Trump's tweets.</a> Perhaps there is a stronger correlation between White House announcements and what happens in the stock market. This approach will look at the White House as a primary medium of communication between the executive branch of the government and traders of the stock market. "
   ]
  },
  {
   "cell_type": "markdown",
   "metadata": {},
   "source": [
    "# The Corpus\n",
    "\n",
    "Collecting just the blog posts for the corpus was quite easy: using BeautifulSoup, we scraped all the posts available from the <a href=\"https://www.whitehouse.gov/blog\">White House Blog</a>. We first grabbed the date, title, and url of each page (10 posts per page). Then, we went through each url and scraped the body of each blog post. The date, title, and body were each added as a row to a CSV.\n",
    "\n",
    "The aforementioned CSV was then used to get the financial info we wanted. We iterated through each row, grabbed the date, and used the yahoo finance library to calculate the proportion that the price changed (for each index fund) from the day the post was made to the next day. Now we had a CSV with date, title, body, and all the financial information we needed to do our analysis. Please see generate_dataset.py for all the code described in these paragraphs."
   ]
  },
  {
   "cell_type": "markdown",
   "metadata": {},
   "source": [
    "# Hypothesis\n",
    "\n",
    "When campaigning, Trump promised that, if elected, he would <a href=\"http://www.cnbc.com/2016/09/16/trump-scales-back-tax-cuts-in-new-economic-plan.html\">cut taxes</a>, <a href=\"http://fortune.com/2016/10/07/donald-trump-business-regulations/\">dampen financial regulations</a>, and <a href=\"http://www.politico.com/story/2016/09/donald-trump-jobs-economic-plan-228218\">bring back jobs to the U.S.</a>. Also, the election of Donald Trump caused a <a href=\"http://money.cnn.com/2017/01/20/investing/stock-market-trump-inauguration-day/\">surge</a> in the market.\n",
    "\n",
    "Therefore, not only will see that the administration is working on the promises made by President Trump, we will also:\n",
    "\n",
    "1) find that the stock market moves a statistically significant amount when the administration makes any kind of economy-related announcements.\n",
    "   \n",
    "2) be able to predict whether the market will move based on an economy-related post."
   ]
  },
  {
   "cell_type": "code",
   "execution_count": 3,
   "metadata": {
    "collapsed": false
   },
   "outputs": [],
   "source": [
    "df = pd.read_csv('data/dataset-train.csv').dropna()\n",
    "df['Title'] = df['Title'].apply(lambda s: s + ' ')\n",
    "df['Body'] = df['Body'].apply(lambda post: regex.sub('', post).lower())\n",
    "df['Body'] = df['Body'].apply(lambda s: s + ' ')\n",
    "df = df.sort_values(by='Date', ascending=False)"
   ]
  },
  {
   "cell_type": "markdown",
   "metadata": {},
   "source": [
    "## Calculations\n",
    "### Definitions\n",
    "- $ND \\triangleq $ NASDAQ\n",
    "- $SP  \\triangleq $ S&P 500\n",
    "- $DJ  \\triangleq $ Dow Jones\n",
    "- $r_s(t) \\triangleq $ closing price of stock $s$ at time $t$.\n",
    "\n",
    "$Delta_s$ = $r_s(t+1) - r_s(t)$\n",
    "- Mean Delta = $\\frac{1}{3}\\sum\\limits_{s \\in (ND, SP, DJ)} Delta_s$ \n",
    "\n",
    "$Proportion_s$ = $\\frac{r_s(t+1) - r_s(t)}{r_s(t)}$ \n",
    "- Mean Proportion = $\\frac{1}{3}\\sum\\limits_{s \\in (ND, SP, DJ)} Proportion_s$ \n",
    "\n"
   ]
  },
  {
   "cell_type": "code",
   "execution_count": 4,
   "metadata": {
    "collapsed": false
   },
   "outputs": [
    {
     "data": {
      "image/png": "[encoded data removed]",
      "text/plain": [
       "<matplotlib.figure.Figure at 0x104852358>"
      ]
     },
     "metadata": {},
     "output_type": "display_data"
    }
   ],
   "source": [
    "nasdaq_values = df[['Date','Nasdaq Value']]\n",
    "sp_values = df[['Date','S&P 500 Value']]\n",
    "dowjones_values = df[['Date','Dow Jones Value']]\n",
    "nasdaq_values, dates = remove_duplicate_dates(nasdaq_values, 'Nasdaq Value')\n",
    "sp_values, dates = remove_duplicate_dates(sp_values, 'S&P 500 Value')\n",
    "dowjones_values, dates = remove_duplicate_dates(dowjones_values, 'Dow Jones Value')\n",
    "mean_values = (nasdaq_values + dowjones_values + sp_values)/3\n",
    "# sb.tsplot(nasdaq_values)\n",
    "# sb.tsplot(dowjones_values)\n",
    "# sb.tsplot(sp_values)\n",
    "sb.tsplot(mean_values)\n",
    "plt.title('Average Market Value over Time')\n",
    "plt.xlabel('Timestep')\n",
    "plt.ylabel('Value')\n",
    "plt.show()"
   ]
  },
  {
   "cell_type": "markdown",
   "metadata": {},
   "source": [
    "## Filtering Stock Market Data\n",
    "\n",
    "Because we want to predict correlations between the stock market trend and White House blog posts, we decided to get rid of the inherent noise in our stock market data. This way, we eliminate the possibilty of fitting to the noise. The filter we decided to use was the Wiener filter with a sound-to-noise ratio derived from the variance of the stock market data.\n"
   ]
  },
  {
   "cell_type": "code",
   "execution_count": 5,
   "metadata": {
    "collapsed": false
   },
   "outputs": [
    {
     "data": {
      "image/png": "[encoded data removed]",
      "text/plain": [
       "<matplotlib.figure.Figure at 0x10c38a940>"
      ]
     },
     "metadata": {},
     "output_type": "display_data"
    }
   ],
   "source": [
    "# Filter Values and Reassign\n",
    "# Filter after averaging\n",
    "filtered_mean_values = wiener(mean_values, noise=None)\n",
    "mean_values_df = pd.DataFrame({'Filtered Mean Value': filtered_mean_values, 'Mean Value': mean_values,\n",
    "                               'Date': dates})\n",
    "mean_values_df['Filtered Mean Delta'] = -mean_values_df['Filtered Mean Value'].diff(periods=1)\n",
    "mean_values_df['Mean Delta'] = -mean_values_df['Mean Value'].diff(periods=1)\n",
    "\n",
    "nasdaq_delta = nasdaq_values.diff(periods=1)\n",
    "sp_delta = sp_values.diff(periods=1)\n",
    "dowjones_delta = dowjones_values.diff(periods=1)\n",
    "mean_values_df['Filtered Mean Proportion'] =  (nasdaq_delta/nasdaq_values + sp_delta/sp_values \n",
    "                                               + dowjones_delta/dowjones_values)/3\n",
    "mean_values_df['Mean Proportion'] = mean_values_df['Mean Delta'] / mean_values_df['Mean Value']\n",
    "\n",
    "df = pd.merge(df, mean_values_df, on='Date', how='left').dropna()\n",
    "sb.tsplot(filtered_mean_values)\n",
    "plt.title('Filtered Average Market Value over Time')\n",
    "plt.xlabel('Timestep')\n",
    "plt.ylabel('Value')\n",
    "plt.show()"
   ]
  },
  {
   "cell_type": "markdown",
   "metadata": {},
   "source": [
    "## Processing the Input Data\n",
    "\n",
    "Our data will consist of White House blog posts, which is unstructured text data. For our initial analysis, we want to see what topics are present, and if the topics are distinct enough, which topics are most correlated with stock market motions."
   ]
  },
  {
   "cell_type": "code",
   "execution_count": 6,
   "metadata": {
    "collapsed": false
   },
   "outputs": [],
   "source": [
    "# Vectorize Blog Posts with BOW \n",
    "initial_vectorizer = CountVectorizer(stop_words='english', min_df=0.05, max_df=0.8)\n",
    "data = initial_vectorizer.fit_transform(df['Body'])"
   ]
  },
  {
   "cell_type": "code",
   "execution_count": 7,
   "metadata": {
    "collapsed": false
   },
   "outputs": [],
   "source": [
    "distances = cosine_distances(data)\n",
    "mds = MDS(n_components=2, dissimilarity='precomputed')\n",
    "pos = mds.fit_transform(distances)"
   ]
  },
  {
   "cell_type": "code",
   "execution_count": 8,
   "metadata": {
    "collapsed": false
   },
   "outputs": [],
   "source": [
    "lda = LatentDirichletAllocation(n_topics=4, random_state=42, learning_method='online')\n",
    "topic_scores = lda.fit_transform(data)\n",
    "labels = np.argmax(topic_scores, axis=1)\n",
    "df['Topic Label'] = labels"
   ]
  },
  {
   "cell_type": "code",
   "execution_count": 9,
   "metadata": {
    "collapsed": false,
    "scrolled": false
   },
   "outputs": [
    {
     "data": {
      "text/html": [
       "\n",
       "\n",
       "    <div class=\"bk-root\">\n",
       "        <div class=\"plotdiv\" id=\"1b734a0e-8258-42a7-b239-b667674aebe2\"></div>\n",
       "    </div>\n",
       "<script type=\"text/javascript\">\n",
       "  \n",
       "  (function(global) {\n",
       "    function now() {\n",
       "      return new Date();\n",
       "    }\n",
       "  \n",
       "    if (typeof (window._bokeh_onload_callbacks) === \"undefined\") {\n",
       "      window._bokeh_onload_callbacks = [];\n",
       "    }\n",
       "  \n",
       "    function run_callbacks() {\n",
       "      window._bokeh_onload_callbacks.forEach(function(callback) { callback() });\n",
       "      delete window._bokeh_onload_callbacks\n",
       "      console.info(\"Bokeh: all callbacks have finished\");\n",
       "    }\n",
       "  \n",
       "    function load_libs(js_urls, callback) {\n",
       "      window._bokeh_onload_callbacks.push(callback);\n",
       "      if (window._bokeh_is_loading > 0) {\n",
       "        console.log(\"Bokeh: BokehJS is being loaded, scheduling callback at\", now());\n",
       "        return null;\n",
       "      }\n",
       "      if (js_urls == null || js_urls.length === 0) {\n",
       "        run_callbacks();\n",
       "        return null;\n",
       "      }\n",
       "      console.log(\"Bokeh: BokehJS not loaded, scheduling load and callback at\", now());\n",
       "      window._bokeh_is_loading = js_urls.length;\n",
       "      for (var i = 0; i < js_urls.length; i++) {\n",
       "        var url = js_urls[i];\n",
       "        var s = document.createElement('script');\n",
       "        s.src = url;\n",
       "        s.async = false;\n",
       "        s.onreadystatechange = s.onload = function() {\n",
       "          window._bokeh_is_loading--;\n",
       "          if (window._bokeh_is_loading === 0) {\n",
       "            console.log(\"Bokeh: all BokehJS libraries loaded\");\n",
       "            run_callbacks()\n",
       "          }\n",
       "        };\n",
       "        s.onerror = function() {\n",
       "          console.warn(\"failed to load library \" + url);\n",
       "        };\n",
       "        console.log(\"Bokeh: injecting script tag for BokehJS library: \", url);\n",
       "        document.getElementsByTagName(\"head\")[0].appendChild(s);\n",
       "      }\n",
       "    };var element = document.getElementById(\"1b734a0e-8258-42a7-b239-b667674aebe2\");\n",
       "    if (element == null) {\n",
       "      console.log(\"Bokeh: ERROR: autoload.js configured with elementid '1b734a0e-8258-42a7-b239-b667674aebe2' but no matching script tag was found. \")\n",
       "      return false;\n",
       "    }\n",
       "  \n",
       "    var js_urls = [];\n",
       "  \n",
       "    var inline_js = [\n",
       "      function(Bokeh) {\n",
       "        Bokeh.$(function() {\n",
       "            var docs_json = {\"40e51449-ebe5-450a-b306-0227bfb0c8fc\":{\"roots\":{\"references\":[{\"attributes\":{\"callback\":null,\"column_names\":[\"x_values\",\"y_values\"],\"data\":{\"chart_index\":[{\"label\":3},{\"label\":3},{\"label\":3},{\"label\":3},{\"label\":3},{\"label\":3},{\"label\":3},{\"label\":3},{\"label\":3},{\"label\":3},{\"label\":3},{\"label\":3},{\"label\":3},{\"label\":3},{\"label\":3},{\"label\":3},{\"label\":3},{\"label\":3},{\"label\":3},{\"label\":3},{\"label\":3},{\"label\":3},{\"label\":3},{\"label\":3},{\"label\":3},{\"label\":3},{\"label\":3},{\"label\":3},{\"label\":3},{\"label\":3},{\"label\":3},{\"label\":3},{\"label\":3},{\"label\":3},{\"label\":3},{\"label\":3},{\"label\":3},{\"label\":3},{\"label\":3},{\"label\":3},{\"label\":3},{\"label\":3},{\"label\":3},{\"label\":3},{\"label\":3},{\"label\":3},{\"label\":3},{\"label\":3},{\"label\":3},{\"label\":3},{\"label\":3},{\"label\":3},{\"label\":3},{\"label\":3},{\"label\":3},{\"label\":3},{\"label\":3},{\"label\":3},{\"label\":3},{\"label\":3},{\"label\":3},{\"label\":3},{\"label\":3},{\"label\":3},{\"label\":3},{\"label\":3},{\"label\":3},{\"label\":3},{\"label\":3},{\"label\":3},{\"label\":3},{\"label\":3},{\"label\":3},{\"label\":3},{\"label\":3},{\"label\":3},{\"label\":3},{\"label\":3},{\"label\":3},{\"label\":3},{\"label\":3},{\"label\":3},{\"label\":3},{\"label\":3},{\"label\":3},{\"label\":3},{\"label\":3},{\"label\":3},{\"label\":3},{\"label\":3},{\"label\":3},{\"label\":3},{\"label\":3},{\"label\":3},{\"label\":3},{\"label\":3},{\"label\":3},{\"label\":3},{\"label\":3},{\"label\":3},{\"label\":3},{\"label\":3}],\"label\":[3,3,3,3,3,3,3,3,3,3,3,3,3,3,3,3,3,3,3,3,3,3,3,3,3,3,3,3,3,3,3,3,3,3,3,3,3,3,3,3,3,3,3,3,3,3,3,3,3,3,3,3,3,3,3,3,3,3,3,3,3,3,3,3,3,3,3,3,3,3,3,3,3,3,3,3,3,3,3,3,3,3,3,3,3,3,3,3,3,3,3,3,3,3,3,3,3,3,3,3,3,3],\"x_values\":[0.5116125464698585,0.6452058215693421,-0.6782876225638027,0.5116125464692366,0.37156366641936267,0.3715630252096251,0.47359024218965246,-0.38833971509962967,0.5581328378246316,0.32278041095556353,0.34198780586745886,0.48363583878368227,0.48363586069705494,0.5652507883879682,0.462830302229328,0.4628303022293287,0.44152772839369575,0.6765161717872386,0.6765161717883355,0.6765161717152458,0.31776641489033536,0.4380211588452028,0.43802115884520265,0.40957538975680113,0.3496240668466516,0.44655102864617935,0.4242561000889869,0.35220248928176695,0.5173400262758663,0.5103991044147091,0.5173400262758672,0.5199457942292107,0.5232204482791809,0.5792714663060246,0.6414853508170004,0.5792714663059269,0.6414853508317118,0.7697094493472205,0.769534297760957,-0.6691094069214814,0.6338918497624716,0.5050446424984866,0.5050446429025515,0.6338918497995963,0.5050446429083113,0.5236205390005159,0.28670918315750604,0.4090579066880055,0.46907191168368045,0.4690719116836795,0.4690719116836804,0.46907191168368007,0.5148038475343377,-0.39213009191544373,0.44014718056301705,0.45735103042834846,0.37751491945217747,0.4573510304283487,0.4276557671478496,0.4528364011152073,0.34911126599208603,0.5095112934864153,0.6512129620993059,0.3322777036371085,0.39294319995850363,0.3929431999585031,0.4486960020581896,0.4678075082049523,0.4982086681994423,0.4982086682387543,0.5385470228214537,0.5528675085610949,0.3653996045844914,0.5967138599975729,0.5389358199433605,0.5389358199433606,0.47119231576513504,0.4711923157646122,0.4940727145504561,0.4940727145549378,0.49402037149474665,0.4745616697464275,0.4248042344278875,0.42480423442788706,0.7058387344967879,0.3866147143794724,0.7057332812786717,-0.1819954217347364,0.3866147143794726,-0.18199542174071645,0.541899335434099,0.5418993354340979,0.5418993354340987,0.612576029072905,0.563626227168138,0.5322123880318498,0.4415532082234905,0.44155320822349026,0.5322123880317609,0.5060470490730482,0.5060470490730479,0.5223206406175895],\"y_values\":[-0.21567449131409533,0.09058341431036461,-0.17437329749825264,-0.21567449131943853,-0.09874065334308901,-0.09874100689029953,-0.2748400905335011,0.025904442329977545,-0.16001862083985946,-0.5745178733194054,-0.6634542373832504,-0.2276161028608366,-0.22761606325010575,-0.37529873790117124,-0.21938353666851398,-0.21938353666851387,-0.39676096126724436,-0.15856320632146206,-0.15856320633084894,-0.15856320570552962,-0.1821770804506905,-0.16899822731259276,-0.16899822731259329,-0.31639304191798806,0.11780818401299899,-0.3287334247287804,-0.22350212107562314,0.046879890776598786,-0.2736433075586305,-0.3400328233793696,-0.2736433075586304,-0.3353565115563905,-0.2940578174014816,-0.18031582133042906,-0.28815403447144494,-0.18031582132873325,-0.28815403442717347,-0.012672772937761959,-0.010694650806545171,-0.14412576916986047,-0.3304542292836057,-0.48545294878769385,-0.4854529484577995,-0.33045422920236345,-0.4854529484530974,-0.4043114196997285,-0.052372780133816285,-0.10870683277969977,-0.19894599035888916,-0.19894599035888916,-0.19894599035888938,-0.19894599035888882,0.03342567465318492,-0.0804605090704607,-0.09131876580984893,-0.378439645024207,-0.2520592455819163,-0.37843964502420646,-0.541181445831111,-0.46160812932077155,-0.14078992138398194,-0.11112027885407444,-0.24659722513942103,0.07151185596955396,-0.019845673673186646,-0.019845673673186636,-0.3562012975012881,-0.36161817039376365,-0.1485950185691239,-0.14859501858331872,-0.3340722632562529,-0.42738465826395755,-0.08652803028714559,-0.2770547989419313,-0.2569527944612117,-0.2569527944612115,-0.41193498043775384,-0.4119349804382392,-0.4458787089630554,-0.4458787089594823,-0.5401099026318804,-0.5127314770443142,-0.3930600630239477,-0.3930600630239475,0.07814061989487539,-0.21792435364323165,0.07856018789558197,0.5657491524925153,-0.21792435364323157,0.5657491524888275,-0.18367287810296773,-0.18367287810296729,-0.18367287810296765,-0.37118638431163054,-0.2907543396041061,-0.10509214394215907,-0.4967471866961952,-0.49674718669619566,-0.1050921439420911,-0.3679090991809231,-0.3679090991809232,-0.43297087211078666]}},\"id\":\"53ffbc79-2929-435f-855e-1c642544801e\",\"type\":\"ColumnDataSource\"},{\"attributes\":{\"fill_alpha\":{\"value\":0.7},\"fill_color\":{\"value\":\"#407ee7\"},\"line_color\":{\"value\":\"#407ee7\"},\"size\":{\"units\":\"screen\",\"value\":8},\"x\":{\"field\":\"x_values\"},\"y\":{\"field\":\"y_values\"}},\"id\":\"1fec4b15-65f3-4dd0-a3d3-d31067fd422c\",\"type\":\"Circle\"},{\"attributes\":{\"callback\":null,\"column_names\":[\"x_values\",\"y_values\"],\"data\":{\"chart_index\":[{\"label\":1},{\"label\":1},{\"label\":1},{\"label\":1},{\"label\":1},{\"label\":1},{\"label\":1},{\"label\":1},{\"label\":1},{\"label\":1},{\"label\":1},{\"label\":1},{\"label\":1},{\"label\":1},{\"label\":1},{\"label\":1},{\"label\":1},{\"label\":1},{\"label\":1},{\"label\":1},{\"label\":1},{\"label\":1},{\"label\":1},{\"label\":1},{\"label\":1},{\"label\":1},{\"label\":1},{\"label\":1},{\"label\":1},{\"label\":1},{\"label\":1},{\"label\":1},{\"label\":1},{\"label\":1},{\"label\":1},{\"label\":1},{\"label\":1},{\"label\":1},{\"label\":1},{\"label\":1},{\"label\":1},{\"label\":1},{\"label\":1},{\"label\":1},{\"label\":1},{\"label\":1},{\"label\":1},{\"label\":1},{\"label\":1},{\"label\":1},{\"label\":1},{\"label\":1},{\"label\":1},{\"label\":1},{\"label\":1},{\"label\":1},{\"label\":1},{\"label\":1},{\"label\":1},{\"label\":1},{\"label\":1},{\"label\":1},{\"label\":1},{\"label\":1},{\"label\":1},{\"label\":1},{\"label\":1},{\"label\":1},{\"label\":1},{\"label\":1},{\"label\":1},{\"label\":1},{\"label\":1},{\"label\":1},{\"label\":1},{\"label\":1},{\"label\":1},{\"label\":1},{\"label\":1},{\"label\":1},{\"label\":1},{\"label\":1},{\"label\":1},{\"label\":1},{\"label\":1},{\"label\":1},{\"label\":1},{\"label\":1},{\"label\":1},{\"label\":1},{\"label\":1},{\"label\":1},{\"label\":1},{\"label\":1},{\"label\":1},{\"label\":1},{\"label\":1},{\"label\":1},{\"label\":1},{\"label\":1},{\"label\":1},{\"label\":1},{\"label\":1},{\"label\":1},{\"label\":1},{\"label\":1},{\"label\":1},{\"label\":1},{\"label\":1}],\"label\":[1,1,1,1,1,1,1,1,1,1,1,1,1,1,1,1,1,1,1,1,1,1,1,1,1,1,1,1,1,1,1,1,1,1,1,1,1,1,1,1,1,1,1,1,1,1,1,1,1,1,1,1,1,1,1,1,1,1,1,1,1,1,1,1,1,1,1,1,1,1,1,1,1,1,1,1,1,1,1,1,1,1,1,1,1,1,1,1,1,1,1,1,1,1,1,1,1,1,1,1,1,1,1,1,1,1,1,1,1],\"x_values\":[0.27770658248204766,0.3597433469490032,0.7981902992207703,0.7981926345216351,-0.41841808177410583,0.15719735214909236,-0.41841808177410583,-0.41841808177410583,0.307548316493679,0.3084756661743308,0.3084756661744849,-0.4184180817741057,-0.4184180817741059,-0.4184180817741055,0.22637005335468777,0.22637005347689274,-0.4184180817741057,0.26424836080850783,-0.4184180817741055,0.2642483608085082,-0.41841808177410617,0.2642483608085082,0.3481987523063562,-0.4184180817741056,0.28272976780055,0.19118466345544224,0.2312141366931949,0.2312141366931949,-0.4184180817741059,-0.41841808177410567,0.04816225384447515,0.17944349665441597,0.2339173562541267,0.26090303818978644,0.2609030381897865,0.23391735625413207,-0.4184180817741059,0.34563850995798595,-0.4184180817741059,0.2795631934615943,-0.4184180817741057,-0.4184180817741059,0.18849868703083908,-0.418418081774106,0.41169999981032024,0.4116999998103204,0.41169999981032046,-0.4184180817741057,0.3023071209355652,0.09675371700314514,0.09675371930350442,0.24717108738867896,0.21025596076657496,-0.4184180817741055,0.2284727530881116,-0.41841808177410544,-0.4184180817741057,-0.41841808177410617,0.09490543057326134,-0.4184180817741059,0.09490543057499715,-0.4184180817741056,-0.41841808177410583,0.23136329650748885,-0.4184180817741057,0.24107391808329817,0.24107391808329856,0.2410739180832986,0.2569971284340396,0.23657254642653744,-0.41841808177410583,0.23657254642653736,-0.4184180817741057,-0.418418081774106,0.28677378517919255,-0.41841808177410583,-0.4184180817741059,-0.47954756629514994,0.23987914597271956,0.23987914597271984,0.23987914597271945,0.26650626071196803,0.2853618755535563,0.28855501911601295,0.14428434785215127,-0.6197919545696912,-0.1815592694022416,0.28676499915165726,0.2155925223958876,0.24564215931096503,0.2673756528641281,0.26737565286412807,0.267375652864128,0.2673756528641281,0.21843039007860066,0.21843039007860063,0.11937571493447846,0.21843039007860066,0.11937571492635239,0.24815472184382015,-0.7356093237031925,0.21042355809669688,0.21042355809669652,0.21042355809669702,0.24825744986527895,0.19169740521457615,0.1916974052145762,0.19169740521457634,0.22774351377871502],\"y_values\":[-0.6139268144346732,-0.5491542278604564,0.23856181576858093,0.23855432922081476,-0.6250031688095237,-0.3314751885387677,-0.6250031688095233,-0.6250031688095238,-0.3384435104183165,-0.4976210280612064,-0.49762102806111264,-0.6250031688095234,-0.6250031688095234,-0.6250031688095237,-0.15001460130685965,-0.15001460130360098,-0.6250031688095238,-0.4530358963853944,-0.6250031688095238,-0.4530358963853938,-0.6250031688095238,-0.45303589638539427,-0.5026706321085489,-0.6250031688095238,-0.44616757488287,-0.1661747312520865,-0.28021576556088007,-0.2802157655608805,-0.6250031688095237,-0.6250031688095237,-0.346108319682759,-0.28932601352435167,-0.6092157544202799,-0.3797536220645963,-0.37975362206459645,-0.6092157544202809,-0.6250031688095237,-0.3943168582076521,-0.6250031688095237,-0.39509561689770295,-0.6250031688095233,-0.6250031688095234,-0.46493239192368935,-0.6250031688095238,-0.5763782267716867,-0.576378226771687,-0.5763782267716869,-0.6250031688095237,-0.43403651954514055,-0.37925002281025955,-0.37925003842640836,-0.34467870587565075,-0.399823186971811,-0.6250031688095243,-0.44232679847848677,-0.6250031688095242,-0.6250031688095238,-0.6250031688095234,-0.4571496873974246,-0.6250031688095234,-0.4571496874000751,-0.6250031688095237,-0.6250031688095234,-0.43827822653907117,-0.6250031688095237,-0.4115731058187823,-0.41157310581878254,-0.41157310581878265,-0.36430385773853247,-0.4590371395253631,-0.6250031688095238,-0.4590371395253626,-0.6250031688095237,-0.6250031688095237,-0.43018810246988637,-0.6250031688095241,-0.6250031688095241,-0.02229978457003928,-0.4005972187758792,-0.40059721877587867,-0.400597218775879,-0.4189568268348307,-0.5142860450612345,-0.41116961654588585,-0.37777899698622924,-0.40378197576685443,-0.711644190491218,-0.5086881446170831,-0.2719206595536598,-0.37282118813529,-0.32513004696043657,-0.32513004696043657,-0.3251300469604369,-0.32513004696043657,-0.3582038994909272,-0.358203899490927,-0.21039289497980637,-0.3582038994909272,-0.2103928949962947,-0.3326692892064317,-0.32242413253040414,-0.36918902647547747,-0.36918902647547713,-0.36918902647547763,-0.30465189022982325,-0.233322703724191,-0.233322703724191,-0.23332270372419103,-0.3207331367121901]}},\"id\":\"eadf8223-b866-4e16-a266-4047f19f0740\",\"type\":\"ColumnDataSource\"},{\"attributes\":{\"below\":[{\"id\":\"939f5b17-6900-4dd9-91fa-a49c46278cb7\",\"type\":\"LinearAxis\"}],\"left\":[{\"id\":\"83b46fc8-7f4a-4345-9c25-382d60091488\",\"type\":\"LinearAxis\"}],\"renderers\":[{\"id\":\"e19dc23f-73e8-4bc5-9817-41c1966ea9a9\",\"type\":\"BoxAnnotation\"},{\"id\":\"4827a696-8776-48e9-8b72-d46a6d14f7c9\",\"type\":\"GlyphRenderer\"},{\"id\":\"225a7854-0bae-4122-aed8-b8f90a987a70\",\"type\":\"GlyphRenderer\"},{\"id\":\"d0b89dc3-5a84-42d9-b22d-224d9ad06486\",\"type\":\"GlyphRenderer\"},{\"id\":\"8009c9f0-3a1b-4738-bf9a-ffda3428e4e6\",\"type\":\"GlyphRenderer\"},{\"id\":\"0cacc551-d51c-4a2f-a6ac-0a4ed99cbc1c\",\"type\":\"Legend\"},{\"id\":\"939f5b17-6900-4dd9-91fa-a49c46278cb7\",\"type\":\"LinearAxis\"},{\"id\":\"83b46fc8-7f4a-4345-9c25-382d60091488\",\"type\":\"LinearAxis\"},{\"id\":\"227c13b5-1537-4631-a579-7aa4471ba356\",\"type\":\"Grid\"},{\"id\":\"9d010671-a8b7-465c-b0b2-69c3449cba8c\",\"type\":\"Grid\"}],\"title\":{\"id\":\"b9d5b347-f72e-47b0-a705-c8a693268f73\",\"type\":\"Title\"},\"tool_events\":{\"id\":\"cbbfc0f5-76bd-466b-a30f-7593ae309c4c\",\"type\":\"ToolEvents\"},\"toolbar\":{\"id\":\"a8837f71-21ca-4564-bce3-c098be11af76\",\"type\":\"Toolbar\"},\"x_mapper_type\":\"auto\",\"x_range\":{\"id\":\"a69b1fe9-1f55-47a5-bcef-2cbad2cff1d5\",\"type\":\"Range1d\"},\"y_mapper_type\":\"auto\",\"y_range\":{\"id\":\"66b83a71-5eb3-452d-8997-89905eba09b3\",\"type\":\"Range1d\"}},\"id\":\"8f2bf823-5c40-4d0d-b517-e6dd588fffea\",\"subtype\":\"Chart\",\"type\":\"Plot\"},{\"attributes\":{},\"id\":\"cbbfc0f5-76bd-466b-a30f-7593ae309c4c\",\"type\":\"ToolEvents\"},{\"attributes\":{\"callback\":null,\"end\":1.0099498926633412,\"start\":-0.9590094569012012},\"id\":\"66b83a71-5eb3-452d-8997-89905eba09b3\",\"type\":\"Range1d\"},{\"attributes\":{\"axis_label\":\"x\",\"formatter\":{\"id\":\"ce91ea50-111b-41ee-bf0d-1971cb90fd41\",\"type\":\"BasicTickFormatter\"},\"plot\":{\"id\":\"8f2bf823-5c40-4d0d-b517-e6dd588fffea\",\"subtype\":\"Chart\",\"type\":\"Plot\"},\"ticker\":{\"id\":\"070fd329-563e-4420-a9f5-5e66527b728f\",\"type\":\"BasicTicker\"}},\"id\":\"939f5b17-6900-4dd9-91fa-a49c46278cb7\",\"type\":\"LinearAxis\"},{\"attributes\":{},\"id\":\"ce91ea50-111b-41ee-bf0d-1971cb90fd41\",\"type\":\"BasicTickFormatter\"},{\"attributes\":{\"fill_alpha\":{\"value\":0.7},\"fill_color\":{\"value\":\"#f22c40\"},\"line_color\":{\"value\":\"#f22c40\"},\"size\":{\"units\":\"screen\",\"value\":8},\"x\":{\"field\":\"x_values\"},\"y\":{\"field\":\"y_values\"}},\"id\":\"f170348b-a7c8-4f49-ab8c-bf11809e312d\",\"type\":\"Circle\"},{\"attributes\":{\"fill_alpha\":{\"value\":0.7},\"fill_color\":{\"value\":\"#df5320\"},\"line_color\":{\"value\":\"#df5320\"},\"size\":{\"units\":\"screen\",\"value\":8},\"x\":{\"field\":\"x_values\"},\"y\":{\"field\":\"y_values\"}},\"id\":\"b1d1527a-c296-4ceb-a470-60e61600cda6\",\"type\":\"Circle\"},{\"attributes\":{\"plot\":{\"id\":\"8f2bf823-5c40-4d0d-b517-e6dd588fffea\",\"subtype\":\"Chart\",\"type\":\"Plot\"},\"ticker\":{\"id\":\"070fd329-563e-4420-a9f5-5e66527b728f\",\"type\":\"BasicTicker\"}},\"id\":\"227c13b5-1537-4631-a579-7aa4471ba356\",\"type\":\"Grid\"},{\"attributes\":{},\"id\":\"070fd329-563e-4420-a9f5-5e66527b728f\",\"type\":\"BasicTicker\"},{\"attributes\":{\"overlay\":{\"id\":\"e19dc23f-73e8-4bc5-9817-41c1966ea9a9\",\"type\":\"BoxAnnotation\"},\"plot\":{\"id\":\"8f2bf823-5c40-4d0d-b517-e6dd588fffea\",\"subtype\":\"Chart\",\"type\":\"Plot\"}},\"id\":\"52a399f6-7c03-4db1-a276-a1ea08b52da7\",\"type\":\"BoxZoomTool\"},{\"attributes\":{\"plot\":{\"id\":\"8f2bf823-5c40-4d0d-b517-e6dd588fffea\",\"subtype\":\"Chart\",\"type\":\"Plot\"}},\"id\":\"b60f1dbb-cb49-4d2b-9262-20dc2680fd21\",\"type\":\"PanTool\"},{\"attributes\":{\"callback\":null,\"column_names\":[\"x_values\",\"y_values\"],\"data\":{\"chart_index\":[{\"label\":0},{\"label\":0},{\"label\":0},{\"label\":0},{\"label\":0},{\"label\":0},{\"label\":0},{\"label\":0},{\"label\":0},{\"label\":0},{\"label\":0},{\"label\":0},{\"label\":0},{\"label\":0},{\"label\":0},{\"label\":0},{\"label\":0},{\"label\":0},{\"label\":0},{\"label\":0},{\"label\":0},{\"label\":0},{\"label\":0},{\"label\":0},{\"label\":0},{\"label\":0},{\"label\":0},{\"label\":0},{\"label\":0},{\"label\":0},{\"label\":0},{\"label\":0},{\"label\":0},{\"label\":0},{\"label\":0},{\"label\":0},{\"label\":0},{\"label\":0},{\"label\":0},{\"label\":0},{\"label\":0},{\"label\":0},{\"label\":0},{\"label\":0},{\"label\":0},{\"label\":0},{\"label\":0},{\"label\":0},{\"label\":0},{\"label\":0},{\"label\":0},{\"label\":0},{\"label\":0},{\"label\":0},{\"label\":0},{\"label\":0},{\"label\":0},{\"label\":0},{\"label\":0},{\"label\":0},{\"label\":0},{\"label\":0},{\"label\":0},{\"label\":0},{\"label\":0},{\"label\":0},{\"label\":0},{\"label\":0},{\"label\":0},{\"label\":0},{\"label\":0},{\"label\":0},{\"label\":0},{\"label\":0},{\"label\":0},{\"label\":0},{\"label\":0},{\"label\":0},{\"label\":0},{\"label\":0},{\"label\":0},{\"label\":0},{\"label\":0},{\"label\":0},{\"label\":0},{\"label\":0},{\"label\":0},{\"label\":0},{\"label\":0},{\"label\":0},{\"label\":0},{\"label\":0},{\"label\":0},{\"label\":0},{\"label\":0},{\"label\":0},{\"label\":0},{\"label\":0},{\"label\":0},{\"label\":0},{\"label\":0},{\"label\":0},{\"label\":0},{\"label\":0},{\"label\":0},{\"label\":0},{\"label\":0},{\"label\":0},{\"label\":0},{\"label\":0},{\"label\":0},{\"label\":0},{\"label\":0},{\"label\":0},{\"label\":0},{\"label\":0},{\"label\":0},{\"label\":0},{\"label\":0},{\"label\":0},{\"label\":0},{\"label\":0},{\"label\":0},{\"label\":0},{\"label\":0},{\"label\":0},{\"label\":0},{\"label\":0},{\"label\":0},{\"label\":0},{\"label\":0},{\"label\":0},{\"label\":0},{\"label\":0},{\"label\":0},{\"label\":0},{\"label\":0},{\"label\":0},{\"label\":0},{\"label\":0},{\"label\":0},{\"label\":0},{\"label\":0},{\"label\":0},{\"label\":0},{\"label\":0},{\"label\":0},{\"label\":0},{\"label\":0},{\"label\":0},{\"label\":0},{\"label\":0},{\"label\":0},{\"label\":0},{\"label\":0},{\"label\":0},{\"label\":0},{\"label\":0},{\"label\":0},{\"label\":0},{\"label\":0},{\"label\":0},{\"label\":0},{\"label\":0},{\"label\":0},{\"label\":0},{\"label\":0},{\"label\":0},{\"label\":0},{\"label\":0},{\"label\":0},{\"label\":0},{\"label\":0},{\"label\":0},{\"label\":0},{\"label\":0},{\"label\":0},{\"label\":0},{\"label\":0},{\"label\":0},{\"label\":0},{\"label\":0},{\"label\":0},{\"label\":0},{\"label\":0},{\"label\":0},{\"label\":0},{\"label\":0},{\"label\":0},{\"label\":0},{\"label\":0},{\"label\":0},{\"label\":0},{\"label\":0},{\"label\":0},{\"label\":0},{\"label\":0},{\"label\":0},{\"label\":0},{\"label\":0},{\"label\":0}],\"label\":[0,0,0,0,0,0,0,0,0,0,0,0,0,0,0,0,0,0,0,0,0,0,0,0,0,0,0,0,0,0,0,0,0,0,0,0,0,0,0,0,0,0,0,0,0,0,0,0,0,0,0,0,0,0,0,0,0,0,0,0,0,0,0,0,0,0,0,0,0,0,0,0,0,0,0,0,0,0,0,0,0,0,0,0,0,0,0,0,0,0,0,0,0,0,0,0,0,0,0,0,0,0,0,0,0,0,0,0,0,0,0,0,0,0,0,0,0,0,0,0,0,0,0,0,0,0,0,0,0,0,0,0,0,0,0,0,0,0,0,0,0,0,0,0,0,0,0,0,0,0,0,0,0,0,0,0,0,0,0,0,0,0,0,0,0,0,0,0,0,0,0,0,0,0,0,0,0,0,0,0,0,0,0,0,0,0,0,0,0,0,0,0,0,0,0,0,0,0,0,0,0],\"x_values\":[-0.6418933157646087,-0.7497813093113289,0.22977236635254145,-0.0902219497703973,-0.47640538729455967,-0.282275766894811,-0.2822757668967553,-0.23390752116091607,-0.47552087296206846,-0.10120667342692152,-0.36658212606254836,-0.5029341456725894,-0.3665821260588568,-0.2964210569695235,-0.14236444480946397,-0.4725285935986986,-0.4282272480469081,0.49424170400289097,-0.6355209396499758,-0.35311920836219185,0.4942424446246794,-0.6379056005187164,-0.08854246046157697,-0.08854246043715502,-0.49282412273869336,0.39597849528591866,-0.49282401041143675,0.395978494523209,-0.31247988234519675,-0.3124798823451896,-0.7755867861955233,0.6961273051086025,-0.1885499429423311,-0.2952356973908628,-0.3896705477180807,-0.46421188863295443,-0.25177688543723253,-0.2517768854372328,-0.2517768854372326,-0.2711264753042775,-0.5147516139211891,-0.15457496433700307,-0.4773511690039953,-0.5147516139216518,-0.2711264753038555,0.6226359720224257,-0.7196976888312089,0.4594361582097924,-0.1613772327726904,-0.3477970527924511,-0.7025741063772799,0.16770917328133772,0.05239883132696404,-0.05560098547154502,0.16770917591053242,-0.2809636974020504,0.7766854281698072,-0.4628436871695065,-0.2745893948143328,-0.274595805904616,-0.46284368716950625,-0.46284368716950625,-0.392072531522636,-0.6349012161332108,-0.6348634030685688,-0.529763181197601,-0.43007901401237847,0.3664307126346598,-0.20520857187854794,0.4317875618777782,-0.20520856297249668,-0.45330209056379583,-0.6674427690478949,-0.28039356362740653,-0.2803935677943223,-0.6437968708628323,-0.32020158618277933,-0.6418411358432082,-0.6418411358225274,0.3388174179240871,-0.7522381909000776,-0.7522381833604336,-0.5019747853302414,-0.638654566570475,-0.6386545665700148,-0.5019747853307253,-0.6386545648800798,-0.09309847303334921,-0.6386545665686891,-0.6148209663022645,-0.6386545665704726,-0.25383475442826603,-0.2538339659920886,-0.45942317150754164,0.3204666986127238,-0.4594231715074851,-0.44856428339257387,-0.5605576952238281,-0.1046718126560684,0.5727863676651171,-0.17361071938674225,0.5727872729684098,0.5727872942146395,-0.1964434843337549,-0.3486906277477618,-0.529105550802964,-0.37449714785154414,0.5958737042527494,0.5958735089626405,-0.6642606638366346,-0.21804353679241886,-0.09032722175300871,-0.0903272217530089,-0.21804353679241914,-0.0903272217530087,-0.5239882361386018,-0.6894551671955769,-0.7602638902706765,-0.6894673432904437,-0.39640900382948246,-0.5129900640575802,-0.6737372771799269,-0.3077619892676434,-0.6669334875237726,-0.6663787039274236,0.027590584507236234,-0.11355393505030799,-0.03458092819386863,-0.6669334821717398,-0.6663787039273578,-0.26161431572707045,-0.43386116312306766,-0.26161431727716183,-0.08897228461759672,-0.4233623675817228,-0.42336235153340307,-0.639012982505539,-0.3353963341980448,-0.33539633419803055,-0.4451771246556923,-0.33539633419803966,-0.44517712423586636,-0.6695393119151383,-0.17928183750581433,-0.6873709533546906,-0.659811038034153,-0.18343846267453978,-0.6873711093293998,-0.18343846267455136,-0.6873711093294871,-0.5230400725589642,-0.5230400725589226,-0.474539805625124,-0.5067563685070186,-0.5067563677166839,-0.506756368002287,-0.47453980562663506,-0.5413832309747713,-0.3071332424249264,-0.5413832309747726,-0.06532041492643927,-0.33878842117116265,-0.16261202893835805,-0.4996671679342204,-0.23800717365286844,-0.2380071747384755,-0.5625142696705201,-0.6567122095423078,-0.5466325121378979,0.5921189783189204,-0.8129884451339943,-0.48930197166966866,-0.40146733110613714,-0.4014673311061522,-0.4014673311061643,-0.48930197167071415,-0.6084339226376176,-0.4662359992632147,-0.44869210181177993,-0.46623599219342926,-0.5070265180812725,-0.46623599235713487,-0.44878960289782754,-0.4400257145934335,-0.44002571370001864,-0.6311469739687233,-0.6628109180002205,-0.6796414838971452,-0.3428051029121117,-0.18029932335393284,-0.1802993233539326,-0.34969141644232804,-0.19472758272378143,-0.3044207314962229,-0.30606334021525744,-0.306063340218603,-0.19472758272404792,-0.30442074964682947,-0.5817839860123977,-0.16376901939248686,-0.1637690713554843],\"y_values\":[0.3324064894155183,0.01294415715589778,0.7652404597582502,-0.750236997925934,0.26649550221930063,0.4064720660280813,0.40647206602436703,0.010638093257822383,-0.18819380659634327,0.4275895676146478,0.3715330687309971,0.5073592426061339,0.37153306873507846,-0.2509844447178828,-0.5972906188337246,0.5258058590481492,0.05488165722705166,0.44779740362039544,0.29876350735438073,0.4312705376883688,0.4477965946212616,0.3027268000210174,0.16549641228148668,0.1654964123084914,0.03593754480187519,0.4008874790045162,0.03593794522254412,0.40088748238504085,-0.5948589129114991,-0.5948589129115074,-0.03305908047431213,0.3995930723227646,0.39731513814197345,0.6079123046067711,0.22415963629467692,-0.49434792113823245,-0.6332627167085851,-0.633262716708585,-0.6332627167085851,0.6496525368020025,0.37932862767916947,-0.5308252888865338,-0.5209075880084293,0.3793286276773974,0.6496525368021491,0.22969371145074582,-0.01756946121596919,0.45385289489081176,0.6975820274186437,0.00823834747340687,0.013143401573140902,-0.7522046844848733,0.16166473690649363,0.5345251183870955,-0.7522046842208892,0.6108237325512239,0.04919603628568804,-0.24554025154771786,0.17529357299022963,0.1752779008793585,-0.24554025154771808,-0.24554025154771802,0.6544608187024159,0.30988022538142324,0.3099946651221274,-0.1848612571957039,0.16801818166568092,0.6069861246512712,-0.054638054366037636,0.24459944921759058,-0.0546380576200612,0.3571585683536086,0.3117076395993632,-0.5484672927144546,-0.5484672886893157,-0.33512155663924525,0.023314321369003254,0.04508022485471246,0.04508022465812281,0.6677902079617034,0.07721387150274628,0.0772139168327145,-0.48705068457405465,0.30346325011015785,0.30346325011084563,-0.48705068457381856,0.3034632526374943,0.7425709949553068,0.30346325011282177,0.15684646705109212,0.30346325011015973,0.08602289109667945,0.08601566070406926,-0.3855417164009191,0.2223824936690831,-0.3855417164009559,0.44472796077016385,0.016904383217673995,0.21124499686297044,0.41567095339116944,0.8458699468662959,0.41566963788649136,0.41566960701341227,0.11417176603367825,-0.3236755431236754,-0.10336094747235376,0.5504725961903866,0.16926589909784642,0.16926642005526163,0.2031040281049343,0.41469558937162365,0.43735321362540996,0.4373532136254109,0.4146955893716235,0.43735321362540996,-0.2412943275219353,0.42431200838472855,0.23967227651240275,0.424292177868866,0.5220752455488418,0.4592605513249342,0.42634217276958386,0.7047421607773305,-0.24787145970342467,0.12434098538130625,0.224514722799607,0.5231786909783916,-0.7438647913587952,-0.24787148662127614,0.12434098538167711,0.4985639947192622,0.289438067114537,0.49856399164268866,0.21362921176805744,-0.04488951273914302,-0.04488951454724009,0.3029169755283816,0.26662440486279704,0.26662440486281513,0.4330937122122181,0.2666244048628032,0.43309371258484863,0.3113532997292602,0.5120909121898299,0.30289739203525085,0.3555862792064728,0.22289861910519115,0.3028969070018725,0.22289861910517617,0.3028969070016014,0.49646773090879914,0.496467730908854,0.47759970308950456,0.5331470601106548,0.53314706084981,0.5331470605827016,0.47759970308796323,0.39751894179812114,0.5656449931724911,0.39751894179812014,0.2599630900117437,-0.5475273455331318,-0.7047246107387649,0.14405459532556836,0.4926669180421789,0.4926669156713652,0.05192320943628972,0.3207160525954173,0.13718829382915326,0.5747108291016162,0.09557793468188679,0.5566448476932544,0.5460465523065949,0.5460465523065757,0.5460465523065604,0.5566448476920713,0.19105726414239155,0.5587209877501398,0.5311562272886514,0.5587209956220932,0.5410365487660699,0.5587209954398126,0.5310279379015256,0.5687812893704908,0.5687812902760075,-0.04489640357246601,0.30806131643663304,0.198989114822565,-0.23341374531647094,0.447984610580589,0.44798461058058964,0.4108199761650655,0.31182073619296,0.5363833349591488,0.4325093506019539,0.4325093505956193,0.3118207361927238,0.5363833061239166,0.2232499305189975,0.6142015892224988,0.6142015813981521]}},\"id\":\"2406faf6-b57e-43fc-956d-91836ed3d053\",\"type\":\"ColumnDataSource\"},{\"attributes\":{\"bottom_units\":\"screen\",\"fill_alpha\":{\"value\":0.5},\"fill_color\":{\"value\":\"lightgrey\"},\"left_units\":\"screen\",\"level\":\"overlay\",\"line_alpha\":{\"value\":1.0},\"line_color\":{\"value\":\"black\"},\"line_dash\":[4,4],\"line_width\":{\"value\":2},\"plot\":null,\"render_mode\":\"css\",\"right_units\":\"screen\",\"top_units\":\"screen\"},\"id\":\"e19dc23f-73e8-4bc5-9817-41c1966ea9a9\",\"type\":\"BoxAnnotation\"},{\"attributes\":{},\"id\":\"50930baa-041d-4335-be48-867e044232d3\",\"type\":\"BasicTicker\"},{\"attributes\":{\"callback\":null,\"end\":0.9768625899518988,\"start\":-0.9757021755963482},\"id\":\"a69b1fe9-1f55-47a5-bcef-2cbad2cff1d5\",\"type\":\"Range1d\"},{\"attributes\":{\"plot\":{\"id\":\"8f2bf823-5c40-4d0d-b517-e6dd588fffea\",\"subtype\":\"Chart\",\"type\":\"Plot\"}},\"id\":\"36ecda58-25c3-450a-a6b0-3df8e98f0f0e\",\"type\":\"ResetTool\"},{\"attributes\":{\"data_source\":{\"id\":\"53ffbc79-2929-435f-855e-1c642544801e\",\"type\":\"ColumnDataSource\"},\"glyph\":{\"id\":\"b1d1527a-c296-4ceb-a470-60e61600cda6\",\"type\":\"Circle\"},\"hover_glyph\":null,\"nonselection_glyph\":null,\"selection_glyph\":null},\"id\":\"d0b89dc3-5a84-42d9-b22d-224d9ad06486\",\"type\":\"GlyphRenderer\"},{\"attributes\":{\"dimension\":1,\"plot\":{\"id\":\"8f2bf823-5c40-4d0d-b517-e6dd588fffea\",\"subtype\":\"Chart\",\"type\":\"Plot\"},\"ticker\":{\"id\":\"50930baa-041d-4335-be48-867e044232d3\",\"type\":\"BasicTicker\"}},\"id\":\"9d010671-a8b7-465c-b0b2-69c3449cba8c\",\"type\":\"Grid\"},{\"attributes\":{\"plot\":{\"id\":\"8f2bf823-5c40-4d0d-b517-e6dd588fffea\",\"subtype\":\"Chart\",\"type\":\"Plot\"}},\"id\":\"5913c132-6fdc-4fa9-9891-b02c4f35b74c\",\"type\":\"WheelZoomTool\"},{\"attributes\":{},\"id\":\"350c3a8f-6d87-47b5-acf3-4adef110c803\",\"type\":\"BasicTickFormatter\"},{\"attributes\":{\"data_source\":{\"id\":\"788f9442-1875-4f5b-a2af-4cd51449e67c\",\"type\":\"ColumnDataSource\"},\"glyph\":{\"id\":\"1fec4b15-65f3-4dd0-a3d3-d31067fd422c\",\"type\":\"Circle\"},\"hover_glyph\":null,\"nonselection_glyph\":null,\"selection_glyph\":null},\"id\":\"4827a696-8776-48e9-8b72-d46a6d14f7c9\",\"type\":\"GlyphRenderer\"},{\"attributes\":{\"plot\":{\"id\":\"8f2bf823-5c40-4d0d-b517-e6dd588fffea\",\"subtype\":\"Chart\",\"type\":\"Plot\"}},\"id\":\"442264c8-b6ac-4d8f-8c84-fa0deba6c77d\",\"type\":\"HelpTool\"},{\"attributes\":{\"plot\":{\"id\":\"8f2bf823-5c40-4d0d-b517-e6dd588fffea\",\"subtype\":\"Chart\",\"type\":\"Plot\"}},\"id\":\"d5d05feb-7bd6-441a-b34e-5a119728a294\",\"type\":\"SaveTool\"},{\"attributes\":{\"fill_alpha\":{\"value\":0.7},\"fill_color\":{\"value\":\"#5ab738\"},\"line_color\":{\"value\":\"#5ab738\"},\"size\":{\"units\":\"screen\",\"value\":8},\"x\":{\"field\":\"x_values\"},\"y\":{\"field\":\"y_values\"}},\"id\":\"cab12f6d-03f5-499e-9f89-627bcbc0bdd2\",\"type\":\"Circle\"},{\"attributes\":{\"data_source\":{\"id\":\"2406faf6-b57e-43fc-956d-91836ed3d053\",\"type\":\"ColumnDataSource\"},\"glyph\":{\"id\":\"f170348b-a7c8-4f49-ab8c-bf11809e312d\",\"type\":\"Circle\"},\"hover_glyph\":null,\"nonselection_glyph\":null,\"selection_glyph\":null},\"id\":\"225a7854-0bae-4122-aed8-b8f90a987a70\",\"type\":\"GlyphRenderer\"},{\"attributes\":{\"data_source\":{\"id\":\"eadf8223-b866-4e16-a266-4047f19f0740\",\"type\":\"ColumnDataSource\"},\"glyph\":{\"id\":\"cab12f6d-03f5-499e-9f89-627bcbc0bdd2\",\"type\":\"Circle\"},\"hover_glyph\":null,\"nonselection_glyph\":null,\"selection_glyph\":null},\"id\":\"8009c9f0-3a1b-4738-bf9a-ffda3428e4e6\",\"type\":\"GlyphRenderer\"},{\"attributes\":{\"active_drag\":\"auto\",\"active_scroll\":\"auto\",\"active_tap\":\"auto\",\"tools\":[{\"id\":\"b60f1dbb-cb49-4d2b-9262-20dc2680fd21\",\"type\":\"PanTool\"},{\"id\":\"5913c132-6fdc-4fa9-9891-b02c4f35b74c\",\"type\":\"WheelZoomTool\"},{\"id\":\"52a399f6-7c03-4db1-a276-a1ea08b52da7\",\"type\":\"BoxZoomTool\"},{\"id\":\"d5d05feb-7bd6-441a-b34e-5a119728a294\",\"type\":\"SaveTool\"},{\"id\":\"36ecda58-25c3-450a-a6b0-3df8e98f0f0e\",\"type\":\"ResetTool\"},{\"id\":\"442264c8-b6ac-4d8f-8c84-fa0deba6c77d\",\"type\":\"HelpTool\"}]},\"id\":\"a8837f71-21ca-4564-bce3-c098be11af76\",\"type\":\"Toolbar\"},{\"attributes\":{\"plot\":null,\"text\":\"LDA Clusters - Trump\"},\"id\":\"b9d5b347-f72e-47b0-a705-c8a693268f73\",\"type\":\"Title\"},{\"attributes\":{\"callback\":null,\"column_names\":[\"x_values\",\"y_values\"],\"data\":{\"chart_index\":[{\"label\":2},{\"label\":2},{\"label\":2},{\"label\":2},{\"label\":2},{\"label\":2},{\"label\":2},{\"label\":2},{\"label\":2},{\"label\":2},{\"label\":2},{\"label\":2},{\"label\":2},{\"label\":2},{\"label\":2},{\"label\":2},{\"label\":2},{\"label\":2},{\"label\":2},{\"label\":2},{\"label\":2},{\"label\":2},{\"label\":2},{\"label\":2},{\"label\":2},{\"label\":2},{\"label\":2},{\"label\":2},{\"label\":2},{\"label\":2},{\"label\":2},{\"label\":2},{\"label\":2},{\"label\":2},{\"label\":2},{\"label\":2},{\"label\":2},{\"label\":2},{\"label\":2},{\"label\":2},{\"label\":2},{\"label\":2},{\"label\":2},{\"label\":2},{\"label\":2},{\"label\":2},{\"label\":2},{\"label\":2},{\"label\":2},{\"label\":2},{\"label\":2},{\"label\":2},{\"label\":2},{\"label\":2},{\"label\":2},{\"label\":2},{\"label\":2},{\"label\":2},{\"label\":2},{\"label\":2},{\"label\":2},{\"label\":2},{\"label\":2},{\"label\":2},{\"label\":2},{\"label\":2},{\"label\":2},{\"label\":2},{\"label\":2},{\"label\":2},{\"label\":2},{\"label\":2},{\"label\":2},{\"label\":2},{\"label\":2},{\"label\":2},{\"label\":2},{\"label\":2},{\"label\":2},{\"label\":2},{\"label\":2},{\"label\":2},{\"label\":2},{\"label\":2},{\"label\":2},{\"label\":2},{\"label\":2},{\"label\":2},{\"label\":2},{\"label\":2},{\"label\":2},{\"label\":2},{\"label\":2},{\"label\":2},{\"label\":2},{\"label\":2},{\"label\":2},{\"label\":2},{\"label\":2},{\"label\":2},{\"label\":2},{\"label\":2},{\"label\":2},{\"label\":2},{\"label\":2},{\"label\":2},{\"label\":2},{\"label\":2},{\"label\":2},{\"label\":2},{\"label\":2},{\"label\":2},{\"label\":2},{\"label\":2},{\"label\":2},{\"label\":2},{\"label\":2},{\"label\":2},{\"label\":2},{\"label\":2},{\"label\":2},{\"label\":2},{\"label\":2},{\"label\":2},{\"label\":2},{\"label\":2},{\"label\":2},{\"label\":2},{\"label\":2},{\"label\":2},{\"label\":2},{\"label\":2},{\"label\":2},{\"label\":2},{\"label\":2},{\"label\":2},{\"label\":2},{\"label\":2},{\"label\":2},{\"label\":2},{\"label\":2},{\"label\":2},{\"label\":2},{\"label\":2},{\"label\":2},{\"label\":2},{\"label\":2},{\"label\":2},{\"label\":2},{\"label\":2},{\"label\":2},{\"label\":2},{\"label\":2},{\"label\":2},{\"label\":2},{\"label\":2},{\"label\":2},{\"label\":2},{\"label\":2},{\"label\":2},{\"label\":2},{\"label\":2},{\"label\":2},{\"label\":2},{\"label\":2},{\"label\":2},{\"label\":2},{\"label\":2},{\"label\":2},{\"label\":2},{\"label\":2},{\"label\":2},{\"label\":2},{\"label\":2},{\"label\":2},{\"label\":2},{\"label\":2},{\"label\":2},{\"label\":2},{\"label\":2},{\"label\":2},{\"label\":2},{\"label\":2},{\"label\":2},{\"label\":2},{\"label\":2},{\"label\":2},{\"label\":2},{\"label\":2},{\"label\":2},{\"label\":2},{\"label\":2},{\"label\":2},{\"label\":2},{\"label\":2},{\"label\":2},{\"label\":2},{\"label\":2},{\"label\":2},{\"label\":2},{\"label\":2},{\"label\":2},{\"label\":2},{\"label\":2},{\"label\":2},{\"label\":2},{\"label\":2},{\"label\":2},{\"label\":2},{\"label\":2},{\"label\":2},{\"label\":2},{\"label\":2},{\"label\":2},{\"label\":2},{\"label\":2},{\"label\":2},{\"label\":2},{\"label\":2},{\"label\":2},{\"label\":2},{\"label\":2},{\"label\":2},{\"label\":2},{\"label\":2},{\"label\":2},{\"label\":2},{\"label\":2},{\"label\":2},{\"label\":2},{\"label\":2},{\"label\":2},{\"label\":2},{\"label\":2},{\"label\":2},{\"label\":2},{\"label\":2},{\"label\":2},{\"label\":2},{\"label\":2},{\"label\":2},{\"label\":2},{\"label\":2},{\"label\":2},{\"label\":2},{\"label\":2},{\"label\":2},{\"label\":2},{\"label\":2},{\"label\":2},{\"label\":2},{\"label\":2},{\"label\":2},{\"label\":2},{\"label\":2},{\"label\":2},{\"label\":2},{\"label\":2},{\"label\":2},{\"label\":2},{\"label\":2},{\"label\":2},{\"label\":2},{\"label\":2},{\"label\":2},{\"label\":2},{\"label\":2},{\"label\":2},{\"label\":2},{\"label\":2},{\"label\":2},{\"label\":2},{\"label\":2},{\"label\":2},{\"label\":2},{\"label\":2},{\"label\":2},{\"label\":2},{\"label\":2},{\"label\":2},{\"label\":2},{\"label\":2},{\"label\":2},{\"label\":2},{\"label\":2},{\"label\":2},{\"label\":2},{\"label\":2},{\"label\":2},{\"label\":2},{\"label\":2},{\"label\":2},{\"label\":2},{\"label\":2},{\"label\":2},{\"label\":2},{\"label\":2},{\"label\":2},{\"label\":2},{\"label\":2}],\"label\":[2,2,2,2,2,2,2,2,2,2,2,2,2,2,2,2,2,2,2,2,2,2,2,2,2,2,2,2,2,2,2,2,2,2,2,2,2,2,2,2,2,2,2,2,2,2,2,2,2,2,2,2,2,2,2,2,2,2,2,2,2,2,2,2,2,2,2,2,2,2,2,2,2,2,2,2,2,2,2,2,2,2,2,2,2,2,2,2,2,2,2,2,2,2,2,2,2,2,2,2,2,2,2,2,2,2,2,2,2,2,2,2,2,2,2,2,2,2,2,2,2,2,2,2,2,2,2,2,2,2,2,2,2,2,2,2,2,2,2,2,2,2,2,2,2,2,2,2,2,2,2,2,2,2,2,2,2,2,2,2,2,2,2,2,2,2,2,2,2,2,2,2,2,2,2,2,2,2,2,2,2,2,2,2,2,2,2,2,2,2,2,2,2,2,2,2,2,2,2,2,2,2,2,2,2,2,2,2,2,2,2,2,2,2,2,2,2,2,2,2,2,2,2,2,2,2,2,2,2,2,2,2,2,2,2,2,2,2,2,2,2,2,2,2,2,2,2,2,2,2,2,2,2,2,2,2,2,2,2,2,2,2,2,2,2,2,2,2,2,2,2,2,2,2,2,2,2,2,2,2,2,2,2,2,2,2,2,2,2,2,2,2,2,2,2,2,2,2,2,2],\"x_values\":[0.1919015036145256,0.22697586099526557,-0.31274433443263294,0.22697565000408854,0.3969446883109255,0.44655988538141694,0.4442269461574434,0.4950279544625644,0.5330915774922769,0.4950267878438727,0.5617501444764842,-0.2588690460106099,-0.2588987040660439,0.021883370697395137,0.10522085102220516,0.10522085102220805,0.021883370697395235,0.11376043396640427,0.021883370697395085,-0.25891542011619206,-0.32136217878049084,-0.3856936837868628,-0.025423318249811394,0.29793943425146896,-0.6906029619538105,-0.4101803862390958,0.07850603642197991,-0.594188833120689,0.6836143459505085,-0.38515955627413967,0.2432146418907016,0.24321464234599954,-0.6553144240391852,-0.7986332043488525,-0.02731545039403361,0.2047922475735529,0.16873915809189963,0.32780382597966295,0.19798553920341405,0.1687391543783678,-0.05457924227149489,0.3278038261124097,0.3018188790595365,-0.16680032630655348,0.3000611777895772,-0.16680021380382842,0.20733325288678167,-0.3621016180911507,-0.17583534749386295,-0.2774601813147395,0.5019552573787898,0.12727383361350003,0.1849806478912902,-0.27746018131473904,-0.2774601813147394,0.3666811831231058,0.3666811825633501,0.14105441646897954,0.06853728657640276,0.3912349665146278,0.012545476503714532,0.2648356456494894,0.5967478380574992,-0.29231969653622,-0.39150264952460556,0.22541476505136063,0.5969799388386696,-0.3915026495246838,-0.3915026495247105,-0.39150264952471564,0.10810758265771125,-0.15602989678848483,-0.1560298967887244,0.2979302855449101,-0.5227732822173736,0.6523366432246519,0.11194408945863954,0.0952648893702119,0.4782507850262151,-0.5474365427536599,-0.5390295354775505,-0.5390295354775507,0.11194408915838917,0.021121181291504573,0.7201377168485219,0.6337164797754705,0.31274676907052995,0.3340573700346955,0.5160816938421836,0.516080330400506,-0.4406311346416671,-0.01811212660170142,-0.613812119567447,-0.4133572638496478,0.3134729798862231,0.1793093035505117,-0.7444890931531112,0.05362207122270917,-0.7444766467479917,-0.5191584147179482,0.5150110332459147,0.02835550835408299,0.02665350480585227,-0.14101084850927356,-0.1880731639767821,-0.4258603974083563,-0.14291720129775162,0.028355508329654347,0.023615673920630808,0.02665350479833502,0.023616316603578574,0.1390134784913478,-0.04830482879964839,0.29994804601051056,0.014441058034405294,-0.7986331691973487,-0.6574386664647907,0.3676369269339136,0.13901347849001902,-0.36967001329947186,0.6596071642672587,0.36763692225339245,-0.07244656099577683,-0.07244656102436617,-0.3361600497503712,-0.33616004975037117,-0.442856192163221,-0.09896890748615858,-0.048958841202307396,-0.3361600497503713,0.22962343697912482,-0.05041927709261614,-0.05041927822981603,-0.348429091623969,0.012321447046221509,0.05514653251905381,-0.17001666162846282,-0.09538137425555565,-0.09538082317259249,-0.03402362553421701,-0.7702139872022968,-0.3484292601226075,0.009814174792162624,-0.18100186723150768,0.00981789696906261,-0.1810017072767386,-0.35018440320337335,0.30676960576201157,0.14598461827237313,0.1986312096898653,-0.5720994806987794,0.18813024231514236,0.696200913929243,0.6962007334020246,0.2836427176284683,0.28364271708799865,0.060833097924911095,-0.6314816512528512,-0.6723372931062791,0.12570666634675953,-0.4494417165719256,0.2196143735647057,0.11699109181818693,-0.7293878631969707,0.21961437352775529,-0.12063182051935689,-0.012441074926094501,0.5512014571098769,0.29307142293917654,-0.12063183653355558,-0.39026637257260743,-0.08463520520923652,-0.4152989278651336,0.24357571779494055,0.25814291891291613,-0.06515794292183612,-0.30323835141257716,0.010610916724996394,-0.30323835153951995,0.29375257284750356,-0.7212890118221794,0.7997724481963746,-0.24282193074968053,0.7997674481618725,0.5066826732110354,-0.6890711778039408,0.21897350273983388,-0.30589124443290105,0.22095514466890878,0.2209551665631326,0.6982756513351118,-0.08135668610315058,-0.0628449288886826,-0.11495843298188146,-0.11495843301157958,0.04616270930938813,-0.06284527268933604,0.04822090108719885,-0.011223506174067395,0.4255747317412855,-0.03248699530560072,0.5782637600989016,0.4913850353028132,0.8141488594895449,0.49138098692813775,0.578263760098873,0.4361870665491569,0.43247937001338543,0.4324786525274793,0.28877288056238504,0.43247950297453885,0.4633554596909727,0.46306428968883395,0.6640006975540738,0.6640006973000885,0.46306427402182626,0.6583971190334325,0.5012852356058791,-0.17623652948603657,0.0635921486650785,0.49288478057288465,0.11768582930089076,0.3291979256530694,-0.11405739981170293,0.3291979926868432,-0.11405736731995426,0.09999582486999466,0.09999582601255842,-0.28311176580560404,-0.04094739327591478,-0.2831117700276566,0.2151760759773586,0.0236212651580107,0.6034062268099223,-0.5759452081775366,0.10500343741402961,0.09117216911111657,-0.7184828743332693,0.09117216910182185,0.6876834931334527,0.09117216909383921,0.15522607944539468,-0.37588030291740493,-0.3758802953606571,0.0650677609210113,0.05803186627743235,0.195612991703055,0.11014277261050628,0.15887596366758197,0.2332628208115569,0.1588759636675838,0.2332628208115568,0.688181239079267,0.2332628208115569,0.11290297005213715,0.045763613818270175,0.5077350524511056,0.09709566004317242,0.6863760685621653,-0.6634433159060682,-0.571503374486965,0.06240550569061442,-0.0808471551853158,0.6862533372844632,0.040415813970050056,-0.6212610173240637,-0.7666606315779402,0.004754593046054239,0.23123494552651164,0.5265916380124098,-0.0004992491790305014,0.03182573988656046,-0.0004992390134635726,0.00011510639942678468,0.5265667825103024,-0.14935904331660946,-0.1493590468475286,0.3371284796331853,-0.20724431703182378,-0.38610295370563014,0.09003153925002394,0.4214359846069176,0.7193845362118565,-0.048998624180819635,-0.57524179180651,0.5426268577958538,0.25109190396357695,0.31173548193496303,0.2510921948487756,0.8006656520947975,0.25109219230681795,0.4201865749407028,0.268401261884942,0.542626857172131,-0.7255323154531147,-0.1537665735001297,-0.18354945213427543,0.14750937112616425,-0.18357043976159967,0.21552774383422596],\"y_values\":[0.5675653068149561,0.3969335854145074,-0.33421319247679415,0.39693349881533607,0.3484572137629134,0.48100027129006756,0.31810194348876003,0.33819326623462503,0.29990074929290517,0.3381949874701612,0.12432240916578549,-0.13444060440183636,-0.13442617791336245,0.12478192802985384,0.28912208043893073,0.28912208043892995,0.12478192802985388,0.37900755528661223,0.12478192802985384,-0.13441804008746328,0.08722960592214264,-0.33305441083859977,-0.27676514878169,0.6309332932554901,0.046299154296869156,-0.41914101202293114,0.5916277572886564,0.09404226870345955,0.1490015957685529,-0.4349418978566639,0.298951023251356,0.2989510238281597,-0.023033401936746963,-0.17181997070632143,0.7446504006766319,0.21977974038063983,0.712947531535488,0.18302063314204614,0.23516937730893936,0.7129475325036803,0.30544636203049724,0.18302063315427192,-0.16130795424934216,-0.31663120502844044,0.548129731498529,-0.31663137855051376,0.20402995952084532,-0.22823484686047601,-0.000828599724963307,-0.1927572428261521,0.1903950391131541,0.06683601629741934,0.1468802459389246,-0.19275724282615214,-0.19275724282615217,0.28364656577102454,0.2836465537108927,0.544657719547613,0.4899883151698018,0.20735903369952716,-0.6946690396317935,0.7313708763979887,0.3406933623712577,-0.612629790829959,-0.3907747925885919,0.5300194949007161,0.3403765594667853,-0.3907747925885679,-0.3907747925885598,-0.3907747925885584,-0.6267961237453015,0.04787187157023905,0.04787187156767718,0.6201096281850635,-0.3989694236805932,-0.021203977823864042,0.48493631372425783,0.6743415359483207,0.6248184634372101,0.08688011544061529,-0.36051585814695186,-0.36051585814695203,0.4849363136248397,0.34840791572430074,0.42376939157001425,0.03104428907851019,0.2955230308947042,0.29818657736071447,0.5146785851440268,0.5146797266768474,-0.42992533206755906,-0.6405927250853449,0.11293512737832397,-0.24326946644485087,0.6583678473962009,0.6130895526824995,-0.11790042801713586,0.4031738865429688,-0.1179640905074827,-0.15137274658295768,0.5366059317351999,0.29226551367581155,0.4637977764581516,-0.2521352257297875,-0.3912626567867108,-0.49285312344046805,0.7059836532581071,0.29226551363716047,0.4160571386092353,0.4637977763877523,0.41605924493340557,0.3655731624838815,-0.7251257846148764,0.4074733127305915,-0.03289376337295123,-0.1718201240877759,-0.32086951145791004,0.5012104764568075,0.36557316248237126,-0.41253479559681294,0.4114780646019453,0.5012104824629585,0.6899423160518265,0.6899423160434942,-0.38002490128082433,-0.38002490128082367,-0.3676034932348613,-0.6623206870603651,0.7423220072250544,-0.3800249012808237,0.4471035641495998,-0.08340272495457231,-0.08340272856882566,0.12649791062507001,-0.794929511104156,0.1743445668454196,0.7816480003641312,0.0641470477560308,0.06414605199889309,0.6392926128057728,-0.09917614967210178,0.12649790219442641,-0.011961114291420558,-0.27216582065761874,-0.011958439924863331,-0.2721660205141177,-0.4262462892561338,0.2509924669512971,0.7330711692981016,0.7186577912751356,-0.28452597110805944,0.5043570471523872,-0.09764069339280276,-0.09764007999769579,0.3620806996155672,0.36208069924397296,0.5831127840216997,-0.12439572058052317,-0.3407894578961012,-0.7716813960804821,-0.12448186142441557,0.6489724282739188,0.6584642343147862,-0.23722313038357634,0.6489724282817554,-0.36531361923769684,-0.6699310231688176,0.4524319228631755,0.2658445778269978,-0.36531356147997834,-0.41640221899648516,-0.6055267920748046,-0.33936930207570515,0.37462653640809174,0.13121768196650602,0.1633122897927501,-0.4898656789127749,0.20799715523565504,-0.48986567884136456,0.4679414729784255,-0.2713405601329324,0.17084951954912428,-0.09615330026818197,0.17086925078797793,0.0028570389195811817,-0.09620591993212092,-0.6682055605243736,-0.4775745427200156,0.6332320375513963,0.633232032325477,-0.031025974445443003,-0.6349964203484177,-0.5267202327010478,0.44319172639021776,0.443191726331399,0.6906418368262331,-0.5267196860990305,0.7420411101746506,0.4740635679423342,0.2861903471459383,-0.6616300388740056,0.05239234997504722,0.22532172546698065,0.013640994059032314,0.22532137531124186,0.052392349975098715,0.5446695905712508,0.548361963400021,0.5483626676247199,0.5341074001590185,0.5483618328959087,0.13747581458287456,0.3896819775528896,0.20238385662201616,0.2023838575911307,0.38968199432926887,0.20904690416997823,0.5934142254590313,0.17792773938512954,-0.742608210511896,0.05179876414069414,-0.7092344112634801,-0.08035291323538034,-0.171920429458981,-0.08035286961226006,-0.1719206860918675,0.4466675124115191,0.4466675129986546,0.20877865789325376,0.6639197458946944,0.20877865439497242,0.26168224269351015,0.6816057400352797,0.2940261198565844,-0.20392602125583484,0.1942045570359344,0.52928216316674,-0.2137131761705395,0.529282163164906,0.3813424768168985,0.5292821631633297,0.44902666644037453,-0.47545280226531705,-0.47545280469027246,0.09796175618090872,0.5569264169473614,0.3185618536721711,0.6356928325028046,0.47205092353638695,-0.009003951153627676,0.4720509235363875,-0.009003951153627674,0.05030646842969365,-0.009003951153627674,0.7142311272556457,-0.749689437795091,0.12473208160144568,0.6112476911665197,0.27950509358727565,-0.0796303618758649,-0.06604778587078297,0.6722983316021363,-0.5762268233472516,0.2797901442516101,-0.7154985399800702,-0.18933918690889073,-0.1726317835424506,0.6009244772349768,0.7077579297974513,0.173670381043856,-0.5703683915852638,-0.6583875121464281,-0.5703684042085249,0.5951306876098652,0.1736736813587543,-0.44809325097485075,-0.4480932449871482,0.5067137401270565,0.5946123120089468,0.2614895013392182,-0.7056399991717747,0.08750568094037367,0.12711226414965332,0.0894369642179219,-0.2359003731963668,0.2893209832419144,0.06045627742147724,-0.7429338001243346,0.06045635927857414,-0.12092171910318453,0.06045635856325145,0.1579543932556573,0.5690779311975732,0.28932098609132917,0.05613864992916592,-0.15733372736758747,-0.7428846427678396,0.5114296729882519,-0.7428781772549553,0.4073550803330561]}},\"id\":\"788f9442-1875-4f5b-a2af-4cd51449e67c\",\"type\":\"ColumnDataSource\"},{\"attributes\":{\"axis_label\":\"y\",\"formatter\":{\"id\":\"350c3a8f-6d87-47b5-acf3-4adef110c803\",\"type\":\"BasicTickFormatter\"},\"plot\":{\"id\":\"8f2bf823-5c40-4d0d-b517-e6dd588fffea\",\"subtype\":\"Chart\",\"type\":\"Plot\"},\"ticker\":{\"id\":\"50930baa-041d-4335-be48-867e044232d3\",\"type\":\"BasicTicker\"}},\"id\":\"83b46fc8-7f4a-4345-9c25-382d60091488\",\"type\":\"LinearAxis\"},{\"attributes\":{\"legends\":[[\"2\",[{\"id\":\"4827a696-8776-48e9-8b72-d46a6d14f7c9\",\"type\":\"GlyphRenderer\"}]],[\"0\",[{\"id\":\"225a7854-0bae-4122-aed8-b8f90a987a70\",\"type\":\"GlyphRenderer\"}]],[\"3\",[{\"id\":\"d0b89dc3-5a84-42d9-b22d-224d9ad06486\",\"type\":\"GlyphRenderer\"}]],[\"1\",[{\"id\":\"8009c9f0-3a1b-4738-bf9a-ffda3428e4e6\",\"type\":\"GlyphRenderer\"}]]],\"location\":\"top_left\",\"plot\":{\"id\":\"8f2bf823-5c40-4d0d-b517-e6dd588fffea\",\"subtype\":\"Chart\",\"type\":\"Plot\"}},\"id\":\"0cacc551-d51c-4a2f-a6ac-0a4ed99cbc1c\",\"type\":\"Legend\"}],\"root_ids\":[\"8f2bf823-5c40-4d0d-b517-e6dd588fffea\"]},\"title\":\"Bokeh Application\",\"version\":\"0.12.0\"}};\n",
       "            var render_items = [{\"docid\":\"40e51449-ebe5-450a-b306-0227bfb0c8fc\",\"elementid\":\"1b734a0e-8258-42a7-b239-b667674aebe2\",\"modelid\":\"8f2bf823-5c40-4d0d-b517-e6dd588fffea\",\"notebook_comms_target\":\"cbc50986-d680-446b-b67d-9434b8bdf162\"}];\n",
       "            \n",
       "            Bokeh.embed.embed_items(docs_json, render_items);\n",
       "        });\n",
       "      },\n",
       "      function(Bokeh) {\n",
       "      }\n",
       "    ];\n",
       "  \n",
       "    function run_inline_js() {\n",
       "      for (var i = 0; i < inline_js.length; i++) {\n",
       "        inline_js[i](window.Bokeh);\n",
       "      }\n",
       "    }\n",
       "  \n",
       "    if (window._bokeh_is_loading === 0) {\n",
       "      console.log(\"Bokeh: BokehJS loaded, going straight to plotting\");\n",
       "      run_inline_js();\n",
       "    } else {\n",
       "      load_libs(js_urls, function() {\n",
       "        console.log(\"Bokeh: BokehJS plotting callback run at\", now());\n",
       "        run_inline_js();\n",
       "      });\n",
       "    }\n",
       "  }(this));\n",
       "</script>"
      ]
     },
     "metadata": {},
     "output_type": "display_data"
    },
    {
     "data": {
      "text/html": [
       "<p><code>&lt;Bokeh Notebook handle for <strong>In[9]</strong>&gt;</code></p>"
      ],
      "text/plain": [
       "<bokeh.io._CommsHandle at 0x10cbf2828>"
      ]
     },
     "execution_count": 9,
     "metadata": {},
     "output_type": "execute_result"
    }
   ],
   "source": [
    "lda_df = {'x':pos[:, 0], 'y':pos[:,1], 'label':labels}\n",
    "show(Scatter(lda_df, x='x', y='y', color='label', title='LDA Clusters - Trump'))"
   ]
  },
  {
   "cell_type": "code",
   "execution_count": 10,
   "metadata": {
    "collapsed": false
   },
   "outputs": [
    {
     "data": {
      "image/png": "[encoded data removed]",
      "text/plain": [
       "<matplotlib.figure.Figure at 0x10cbf2c50>"
      ]
     },
     "metadata": {},
     "output_type": "display_data"
    }
   ],
   "source": [
    "sb.boxplot(x=\"Topic Label\", y=\"Filtered Mean Proportion\", data=df)\n",
    "plt.title('Filtered Mean Proportion Box Plot')\n",
    "plt.show()"
   ]
  },
  {
   "cell_type": "code",
   "execution_count": 11,
   "metadata": {
    "collapsed": false
   },
   "outputs": [
    {
     "name": "stdout",
     "output_type": "stream",
     "text": [
      "\n",
      "Topic 0:\n",
      "order secretary united executive states federal law shall state security national agency department agencies director house policy office regulatory section\n",
      "\n",
      "Topic 1:\n",
      "think spicer going just thats people dont said im know theres mr administration question hes house sure make clear want\n",
      "\n",
      "Topic 2:\n",
      "trump united states american people america vice today minister donald security prime gorsuch americans economic country day national world women\n",
      "\n",
      "Topic 3:\n",
      "going thank great people american want applause know thats just right im country really good like jobs think mr say\n",
      "\n"
     ]
    }
   ],
   "source": [
    "print_top_words(lda, initial_vectorizer.get_feature_names(), 20)"
   ]
  },
  {
   "cell_type": "markdown",
   "metadata": {},
   "source": [
    "All the top words per topic - aside from topic 0 - don't seem to have any easily identifiable topic. Let's look into the titles of topic 0."
   ]
  },
  {
   "cell_type": "code",
   "execution_count": 12,
   "metadata": {
    "collapsed": false,
    "scrolled": true
   },
   "outputs": [
    {
     "data": {
      "text/plain": [
       "9      President Donald J. Trump Approves Resighini R...\n",
       "11                  Two Nominations Sent to the Senate  \n",
       "13                  Two Nominations Sent to the Senate  \n",
       "16                  Two Nominations Sent to the Senate  \n",
       "21     Presidential Executive Order on the Establishm...\n",
       "29     Presidential Executive Order Implementing an A...\n",
       "30     Presidential Executive Order Implementing an A...\n",
       "37     President Donald J. Trump Announces Key Additi...\n",
       "40                    Photo of the Day: April 27, 2017  \n",
       "43     Presidential Memorandum for the Secretary of C...\n",
       "53     Presidential Executive Order on the Review of ...\n",
       "56     Budgetary Impact Analysis for Executive Order ...\n",
       "57     Presidential Executive Order on the Review of ...\n",
       "62     List of Foreign Ambassadors Who Participated i...\n",
       "67     President Trump's 100 Days of Historic Accompl...\n",
       "71     Budgetary Impact Analysis for Executive Order ...\n",
       "73     President Donald J. Trump Announces Intent to ...\n",
       "75     President Donald J. Trump Announces Intent to ...\n",
       "76     President Trump Approves Washington Disaster D...\n",
       "77     Presidential Executive Order on Identifying an...\n",
       "84     President Donald J. Trump Announces Intent to ...\n",
       "88     President Trump Approves Idaho Disaster Declar...\n",
       "92     President Donald J. Trump Announces Key Additi...\n",
       "94     President Donald J. Trump Announces Key Additi...\n",
       "95     A Letter from the President to Certain Congres...\n",
       "97     President Donald J. Trump: Standing up to Unfa...\n",
       "98     A Letter from the President to Certain Congres...\n",
       "99     President Donald J. Trump: Standing up to Unfa...\n",
       "103           White House History: White House Gardens  \n",
       "106           White House History: White House Gardens  \n",
       "                             ...                        \n",
       "675    Budgetary Impact Analysis for Executive Order ...\n",
       "676    Budgetary Impact Analysis for Executive Order ...\n",
       "677    Budgetary Impact Analysis for Executive Order ...\n",
       "678    Budgetary Impact Analysis for Executive Order ...\n",
       "679    Budgetary Impact Analysis for Executive Order ...\n",
       "680    President Donald J. Trump Announces Intent to ...\n",
       "690    Budgetary Impact Analysis for Executive Order ...\n",
       "691    Budgetary Impact Analysis for Executive Order ...\n",
       "692    Budgetary Impact Analysis for Executive Order ...\n",
       "693    Budgetary Impact Analysis for Executive Order ...\n",
       "694    Budgetary Impact Analysis for Executive Order ...\n",
       "695    Budgetary Impact Analysis for Executive Order ...\n",
       "696    Budgetary Impact Analysis for Executive Order ...\n",
       "698    Budgetary Impact Analysis for Executive Order ...\n",
       "699    Vice President Mike Pence Announces Andrea Tho...\n",
       "700    President Trump Approves Oregon Disaster Decla...\n",
       "702    Memorandum: Immediate Actions and Initial Guid...\n",
       "703    President Donald J. Trump Announces White Hous...\n",
       "704    Executive Order: Enhancing Public Safety in th...\n",
       "705    Executive Order: Enhancing Public Safety in th...\n",
       "707    Executive Order Expediting Environmental Revie...\n",
       "708    President Trump Takes Action to Expedite Prior...\n",
       "709    Presidential Memorandum Streamlining Permittin...\n",
       "710    Presidential Memorandum Regarding Construction...\n",
       "712    Presidential Memorandum Regarding Construction...\n",
       "713    President Trump Takes Action to Expedite Prior...\n",
       "715    Presidential Memorandum Streamlining Permittin...\n",
       "716    Memorandum: Implementation of Regulatory Freeze  \n",
       "717    Presidential Memorandum Regarding the Mexico C...\n",
       "718    Presidential Memorandum Regarding the Mexico C...\n",
       "Name: Title, dtype: object"
      ]
     },
     "execution_count": 12,
     "metadata": {},
     "output_type": "execute_result"
    }
   ],
   "source": [
    "df[df['Topic Label'] == 0]['Title']"
   ]
  },
  {
   "cell_type": "markdown",
   "metadata": {},
   "source": [
    "Many of these do seem to be about regulations/money/budgets/etc. Look at 675-698!"
   ]
  },
  {
   "cell_type": "code",
   "execution_count": 13,
   "metadata": {
    "collapsed": false
   },
   "outputs": [
    {
     "name": "stdout",
     "output_type": "stream",
     "text": [
      "             precision    recall  f1-score   support\n",
      "\n",
      "          0       1.00      0.88      0.93        48\n",
      "          1       1.00      1.00      1.00        20\n",
      "          2       0.84      1.00      0.91        78\n",
      "          3       1.00      0.72      0.84        32\n",
      "\n",
      "avg / total       0.93      0.92      0.91       178\n",
      "\n"
     ]
    }
   ],
   "source": [
    "topic_vectorizer = CountVectorizer(vocabulary=set(get_top_words(lda, initial_vectorizer.get_feature_names(), 50)))\n",
    "data = topic_vectorizer.transform(df['Body'])\n",
    "\n",
    "topic_df = pd.DataFrame(data.todense(), columns=topic_vectorizer.get_feature_names(), index=df.index)\n",
    "vect_df = pd.concat([df, topic_df], axis=1)\n",
    "\n",
    "X_train, X_test, y_train, y_test = tts(data.todense(), vect_df['Topic Label'])\n",
    "\n",
    "rf = RandomForestClassifier(n_estimators=30, random_state=42)\n",
    "rf.fit(X_train, y_train)\n",
    "y_pred = rf.predict(X_test)\n",
    "report = classification_report(y_test, y_pred)\n",
    "print(report)"
   ]
  },
  {
   "cell_type": "code",
   "execution_count": 14,
   "metadata": {
    "collapsed": false
   },
   "outputs": [
    {
     "data": {
      "text/plain": [
       "Ttest_indResult(statistic=-2.1907741337498505, pvalue=0.029127654424823866)"
      ]
     },
     "execution_count": 14,
     "metadata": {},
     "output_type": "execute_result"
    }
   ],
   "source": [
    "top0_mp = df[df['Topic Label'] == 0]['Filtered Mean Proportion']\n",
    "topn0_mp = df[df['Topic Label'] != 0]['Filtered Mean Proportion']\n",
    "ttest_ind(top0_mp, topn0_mp, equal_var=False)"
   ]
  },
  {
   "cell_type": "markdown",
   "metadata": {},
   "source": [
    "We see a statstically significant difference between the Filtered Mean Proportions for topic 0 and all other topics."
   ]
  },
  {
   "cell_type": "markdown",
   "metadata": {},
   "source": [
    "Our classifier was able to predict which posts belong to which topics quite precisely using Random Forest. LDA was able to pick out the most prominent topics. It looks like topic 0 is the one we want to focus on, as it contains many articles that discuss some aspect of the economy. As hypothesized, the pvalue of the mean proportions is statiscally significant when compared to all other topics."
   ]
  },
  {
   "cell_type": "markdown",
   "metadata": {},
   "source": [
    "# Generating Feature Spaces\n",
    "\n",
    "For us to be able to train a machine learning model on our text data, we must first structure our data into vector form. From the above topic labeling, we noticed that we could use the highest rated words from our LDA model to generate a dictionary. The idea here is to leverage the information the LDA model learned to reduce the noise in our feature space. Other methods we have tried include `difference of proportions` and `chi-squared rejection`. "
   ]
  },
  {
   "cell_type": "code",
   "execution_count": 15,
   "metadata": {
    "collapsed": false
   },
   "outputs": [],
   "source": [
    "# Revectorize Blog Posts to Label each post with a topic\n",
    "old_df = df\n",
    "df = df[df['Topic Label'] == 0]\n",
    "topic_vectorizer = CountVectorizer(vocabulary=set(get_top_words(lda, initial_vectorizer.get_feature_names(), 50)))\n",
    "data = topic_vectorizer.transform(df['Body'])\n",
    "distance = cosine_distances(data)\n",
    "pos = mds.fit_transform(distance)"
   ]
  },
  {
   "cell_type": "code",
   "execution_count": 16,
   "metadata": {
    "collapsed": false,
    "scrolled": true
   },
   "outputs": [],
   "source": [
    "# Join the blog posts that are on the same day\n",
    "joined_data_df = join_text_on_date(df)[['Date', 'Title', 'Body', 'Filtered Mean Delta', 'Filtered Mean Proportion']]\n",
    "joined_data_df['Label'] = joined_data_df['Filtered Mean Proportion'].apply(lambda x: 1 if x >= 0 else 0)"
   ]
  },
  {
   "cell_type": "code",
   "execution_count": 17,
   "metadata": {
    "collapsed": false
   },
   "outputs": [],
   "source": [
    "# Vectorize them using BOW\n",
    "# Can possibly try a word embeddings model to featurize our blogs\n",
    "#vectorizer = CountVectorizer(stop_words='english', max_df=0.8, min_df=0.05)\n",
    "X, y = topic_vectorizer.fit_transform(joined_data_df['Body']), joined_data_df['Label']\n",
    "X_train, X_test, y_train, y_test = tts(X, y)"
   ]
  },
  {
   "cell_type": "code",
   "execution_count": 18,
   "metadata": {
    "collapsed": false
   },
   "outputs": [
    {
     "data": {
      "text/html": [
       "\n",
       "\n",
       "    <div class=\"bk-root\">\n",
       "        <div class=\"plotdiv\" id=\"77abaaaa-22d4-42df-901a-7ffbbb792ba2\"></div>\n",
       "    </div>\n",
       "<script type=\"text/javascript\">\n",
       "  \n",
       "  (function(global) {\n",
       "    function now() {\n",
       "      return new Date();\n",
       "    }\n",
       "  \n",
       "    if (typeof (window._bokeh_onload_callbacks) === \"undefined\") {\n",
       "      window._bokeh_onload_callbacks = [];\n",
       "    }\n",
       "  \n",
       "    function run_callbacks() {\n",
       "      window._bokeh_onload_callbacks.forEach(function(callback) { callback() });\n",
       "      delete window._bokeh_onload_callbacks\n",
       "      console.info(\"Bokeh: all callbacks have finished\");\n",
       "    }\n",
       "  \n",
       "    function load_libs(js_urls, callback) {\n",
       "      window._bokeh_onload_callbacks.push(callback);\n",
       "      if (window._bokeh_is_loading > 0) {\n",
       "        console.log(\"Bokeh: BokehJS is being loaded, scheduling callback at\", now());\n",
       "        return null;\n",
       "      }\n",
       "      if (js_urls == null || js_urls.length === 0) {\n",
       "        run_callbacks();\n",
       "        return null;\n",
       "      }\n",
       "      console.log(\"Bokeh: BokehJS not loaded, scheduling load and callback at\", now());\n",
       "      window._bokeh_is_loading = js_urls.length;\n",
       "      for (var i = 0; i < js_urls.length; i++) {\n",
       "        var url = js_urls[i];\n",
       "        var s = document.createElement('script');\n",
       "        s.src = url;\n",
       "        s.async = false;\n",
       "        s.onreadystatechange = s.onload = function() {\n",
       "          window._bokeh_is_loading--;\n",
       "          if (window._bokeh_is_loading === 0) {\n",
       "            console.log(\"Bokeh: all BokehJS libraries loaded\");\n",
       "            run_callbacks()\n",
       "          }\n",
       "        };\n",
       "        s.onerror = function() {\n",
       "          console.warn(\"failed to load library \" + url);\n",
       "        };\n",
       "        console.log(\"Bokeh: injecting script tag for BokehJS library: \", url);\n",
       "        document.getElementsByTagName(\"head\")[0].appendChild(s);\n",
       "      }\n",
       "    };var element = document.getElementById(\"77abaaaa-22d4-42df-901a-7ffbbb792ba2\");\n",
       "    if (element == null) {\n",
       "      console.log(\"Bokeh: ERROR: autoload.js configured with elementid '77abaaaa-22d4-42df-901a-7ffbbb792ba2' but no matching script tag was found. \")\n",
       "      return false;\n",
       "    }\n",
       "  \n",
       "    var js_urls = [];\n",
       "  \n",
       "    var inline_js = [\n",
       "      function(Bokeh) {\n",
       "        Bokeh.$(function() {\n",
       "            var docs_json = {\"22e37e66-13ce-4967-87e2-38f4d205f930\":{\"roots\":{\"references\":[{\"attributes\":{},\"id\":\"4ab487d5-512d-474f-a30c-582806e76380\",\"type\":\"BasicTickFormatter\"},{\"attributes\":{},\"id\":\"e174d3c6-f1e6-4324-b4d3-5631ca839595\",\"type\":\"BasicTicker\"},{\"attributes\":{},\"id\":\"c93a299f-8b34-41ce-ada9-2ca3a2772a8b\",\"type\":\"BasicTickFormatter\"},{\"attributes\":{\"callback\":null,\"end\":0.8289351864429857,\"start\":-0.9702485490763325},\"id\":\"14a6531b-9b28-4ecf-ae85-c10efccbcd6b\",\"type\":\"Range1d\"},{\"attributes\":{\"axis_label\":\"y\",\"formatter\":{\"id\":\"c93a299f-8b34-41ce-ada9-2ca3a2772a8b\",\"type\":\"BasicTickFormatter\"},\"plot\":{\"id\":\"ef8884ee-5670-4167-8591-9f6bf38028e3\",\"subtype\":\"Chart\",\"type\":\"Plot\"},\"ticker\":{\"id\":\"53f06307-8a4a-41e3-998f-692d97c2ddfc\",\"type\":\"BasicTicker\"}},\"id\":\"99335d07-8555-4daa-b8fb-0928131b1dbe\",\"type\":\"LinearAxis\"},{\"attributes\":{\"plot\":{\"id\":\"ef8884ee-5670-4167-8591-9f6bf38028e3\",\"subtype\":\"Chart\",\"type\":\"Plot\"}},\"id\":\"d2fab6ac-da58-4050-a1d3-dacdb50fa0fd\",\"type\":\"PanTool\"},{\"attributes\":{\"axis_label\":\"x\",\"formatter\":{\"id\":\"4ab487d5-512d-474f-a30c-582806e76380\",\"type\":\"BasicTickFormatter\"},\"plot\":{\"id\":\"ef8884ee-5670-4167-8591-9f6bf38028e3\",\"subtype\":\"Chart\",\"type\":\"Plot\"},\"ticker\":{\"id\":\"e174d3c6-f1e6-4324-b4d3-5631ca839595\",\"type\":\"BasicTicker\"}},\"id\":\"433dfa1f-a535-49c0-b08e-87fe599893b1\",\"type\":\"LinearAxis\"},{\"attributes\":{},\"id\":\"9bc767e0-fb6d-408b-898a-305856e1a270\",\"type\":\"ToolEvents\"},{\"attributes\":{\"active_drag\":\"auto\",\"active_scroll\":\"auto\",\"active_tap\":\"auto\",\"tools\":[{\"id\":\"d2fab6ac-da58-4050-a1d3-dacdb50fa0fd\",\"type\":\"PanTool\"},{\"id\":\"87c09d2a-dc2b-4cab-a77f-37c1c4f6298b\",\"type\":\"WheelZoomTool\"},{\"id\":\"9c1f04ba-2584-4a81-b9b6-99ac33650942\",\"type\":\"BoxZoomTool\"},{\"id\":\"c1193e2e-e271-4f65-a5a8-a876fe443c39\",\"type\":\"SaveTool\"},{\"id\":\"84f79ba2-f5f5-4489-ad53-5d7599550cd9\",\"type\":\"ResetTool\"},{\"id\":\"2feff498-4ae6-4660-8838-66d996eba285\",\"type\":\"HelpTool\"}]},\"id\":\"943d70ce-83d8-451f-8dc1-18c06a69420f\",\"type\":\"Toolbar\"},{\"attributes\":{\"bottom_units\":\"screen\",\"fill_alpha\":{\"value\":0.5},\"fill_color\":{\"value\":\"lightgrey\"},\"left_units\":\"screen\",\"level\":\"overlay\",\"line_alpha\":{\"value\":1.0},\"line_color\":{\"value\":\"black\"},\"line_dash\":[4,4],\"line_width\":{\"value\":2},\"plot\":null,\"render_mode\":\"css\",\"right_units\":\"screen\",\"top_units\":\"screen\"},\"id\":\"28343f67-229d-4945-889d-97319f301eec\",\"type\":\"BoxAnnotation\"},{\"attributes\":{\"fill_alpha\":{\"value\":0.7},\"fill_color\":{\"value\":\"#f22c40\"},\"line_color\":{\"value\":\"#f22c40\"},\"size\":{\"units\":\"screen\",\"value\":8},\"x\":{\"field\":\"x_values\"},\"y\":{\"field\":\"y_values\"}},\"id\":\"394ce58f-dd58-4b9e-8549-fde420eac024\",\"type\":\"Circle\"},{\"attributes\":{\"callback\":null,\"column_names\":[\"x_values\",\"y_values\"],\"data\":{\"chart_index\":[{\"label\":0},{\"label\":0},{\"label\":0},{\"label\":0},{\"label\":0},{\"label\":0},{\"label\":0},{\"label\":0},{\"label\":0},{\"label\":0},{\"label\":0},{\"label\":0},{\"label\":0},{\"label\":0},{\"label\":0},{\"label\":0},{\"label\":0},{\"label\":0},{\"label\":0},{\"label\":0},{\"label\":0},{\"label\":0},{\"label\":0},{\"label\":0},{\"label\":0},{\"label\":0}],\"label\":[0,0,0,0,0,0,0,0,0,0,0,0,0,0,0,0,0,0,0,0,0,0,0,0,0,0],\"x_values\":[-0.21657695393327261,0.06250796218818114,0.10983538647313391,-0.0648483491415577,0.18010147970576146,-0.6885170243429775,0.18679443082662925,-0.31842011395018943,0.5584310463060643,-0.32374077308138594,0.05224241298939898,0.10385278643946133,-0.41995134211057455,-0.043917126687330714,-0.1289264838977502,0.5787116114314869,-0.517352310176353,0.3410091779197365,0.08474111701339941,0.33545821948924187,-0.505933390958762,0.4831340511529036,-0.1728346044761183,0.035220524293289035,0.11639863314359902,0.40091706772351604],\"y_values\":[0.1697675452150432,-0.10284778583062475,0.0046512605025122635,0.5493276589732838,-0.2593531034259185,-0.2973290746688435,-0.42917397103000676,0.3630074525392728,0.16252127368617109,-0.4863330797836513,-0.3933142333885306,-0.291849118831449,0.20571173039056012,0.16234502338071113,0.34463518699040496,0.223122674404921,0.296972265747819,0.2758255122607243,0.4388205347495158,0.20153830089518618,-0.2964253331547964,-0.3181546034397686,-0.8203165711163893,-0.040787618579913025,0.07720398540311249,-0.1799736757308239]}},\"id\":\"c09eff70-6431-40d1-b9c8-c5498a48c9f9\",\"type\":\"ColumnDataSource\"},{\"attributes\":{\"data_source\":{\"id\":\"c09eff70-6431-40d1-b9c8-c5498a48c9f9\",\"type\":\"ColumnDataSource\"},\"glyph\":{\"id\":\"394ce58f-dd58-4b9e-8549-fde420eac024\",\"type\":\"Circle\"},\"hover_glyph\":null,\"nonselection_glyph\":null,\"selection_glyph\":null},\"id\":\"635a73e3-c350-4381-84de-d57111432515\",\"type\":\"GlyphRenderer\"},{\"attributes\":{},\"id\":\"53f06307-8a4a-41e3-998f-692d97c2ddfc\",\"type\":\"BasicTicker\"},{\"attributes\":{\"legends\":[[\"1\",[{\"id\":\"76292e85-d824-47b9-9b35-707c104831af\",\"type\":\"GlyphRenderer\"}]],[\"0\",[{\"id\":\"635a73e3-c350-4381-84de-d57111432515\",\"type\":\"GlyphRenderer\"}]]],\"location\":\"top_left\",\"plot\":{\"id\":\"ef8884ee-5670-4167-8591-9f6bf38028e3\",\"subtype\":\"Chart\",\"type\":\"Plot\"}},\"id\":\"4046e22a-0a34-44fa-8478-e821445539e2\",\"type\":\"Legend\"},{\"attributes\":{\"plot\":{\"id\":\"ef8884ee-5670-4167-8591-9f6bf38028e3\",\"subtype\":\"Chart\",\"type\":\"Plot\"}},\"id\":\"c1193e2e-e271-4f65-a5a8-a876fe443c39\",\"type\":\"SaveTool\"},{\"attributes\":{\"dimension\":1,\"plot\":{\"id\":\"ef8884ee-5670-4167-8591-9f6bf38028e3\",\"subtype\":\"Chart\",\"type\":\"Plot\"},\"ticker\":{\"id\":\"53f06307-8a4a-41e3-998f-692d97c2ddfc\",\"type\":\"BasicTicker\"}},\"id\":\"279e0297-17aa-476e-9506-23805626a0c4\",\"type\":\"Grid\"},{\"attributes\":{\"plot\":{\"id\":\"ef8884ee-5670-4167-8591-9f6bf38028e3\",\"subtype\":\"Chart\",\"type\":\"Plot\"}},\"id\":\"84f79ba2-f5f5-4489-ad53-5d7599550cd9\",\"type\":\"ResetTool\"},{\"attributes\":{\"plot\":{\"id\":\"ef8884ee-5670-4167-8591-9f6bf38028e3\",\"subtype\":\"Chart\",\"type\":\"Plot\"},\"ticker\":{\"id\":\"e174d3c6-f1e6-4324-b4d3-5631ca839595\",\"type\":\"BasicTicker\"}},\"id\":\"6748b31d-32a3-415e-9c42-ac3d95f5d4dc\",\"type\":\"Grid\"},{\"attributes\":{\"callback\":null,\"column_names\":[\"x_values\",\"y_values\"],\"data\":{\"chart_index\":[{\"label\":1},{\"label\":1},{\"label\":1},{\"label\":1},{\"label\":1},{\"label\":1},{\"label\":1},{\"label\":1},{\"label\":1},{\"label\":1},{\"label\":1},{\"label\":1},{\"label\":1},{\"label\":1},{\"label\":1},{\"label\":1},{\"label\":1},{\"label\":1},{\"label\":1},{\"label\":1},{\"label\":1},{\"label\":1},{\"label\":1}],\"label\":[1,1,1,1,1,1,1,1,1,1,1,1,1,1,1,1,1,1,1,1,1,1,1],\"x_values\":[0.5586352724094887,-0.10985780992636485,-0.44479925465078946,-0.21514933745602358,-0.0033559234012465644,0.25973314201690306,-0.7281671313967135,-0.30318554703207884,0.27902238078513947,-0.2255677367094688,0.07442799031091686,-0.5405267213043359,0.25159966689660845,0.4669230502868526,0.026999808001690634,0.15555438233862026,-0.057415098150128324,-0.0012096186887646067,-0.10127976715933455,-0.07795982065901128,0.6249848908816552,-0.06909743804890471,-0.048646813684241265],\"y_values\":[-0.0185193119926138,-0.14633805782254905,0.5029708922352055,-0.24328371818463881,0.0665861865937232,0.36297722113267966,-0.2550037069341093,-0.19054333011497912,-0.5289068352404921,-0.017811453332245108,-0.5372788061390947,-0.17548423129615728,0.6790032084830425,0.15062598552837536,0.34309953881508204,-0.5140021091020014,-0.02632108446228727,0.45783551886895624,-0.4834853717503842,0.15037806646209925,-0.14358033531992642,0.4934129862175824,0.5140765111962099]}},\"id\":\"c7a62634-fce7-4770-b5d3-0617b2d8a980\",\"type\":\"ColumnDataSource\"},{\"attributes\":{\"callback\":null,\"end\":0.7603000931094921,\"start\":-0.8634823336245504},\"id\":\"8c75e626-9d29-4954-befb-0c343f80ac2b\",\"type\":\"Range1d\"},{\"attributes\":{\"plot\":null,\"text\":\"Labeled Feature Space\"},\"id\":\"1cb7f703-6074-40b9-9181-5f4baaf8a3ea\",\"type\":\"Title\"},{\"attributes\":{\"data_source\":{\"id\":\"c7a62634-fce7-4770-b5d3-0617b2d8a980\",\"type\":\"ColumnDataSource\"},\"glyph\":{\"id\":\"d788690b-9878-43a7-b610-c93b6ddd8a6f\",\"type\":\"Circle\"},\"hover_glyph\":null,\"nonselection_glyph\":null,\"selection_glyph\":null},\"id\":\"76292e85-d824-47b9-9b35-707c104831af\",\"type\":\"GlyphRenderer\"},{\"attributes\":{\"overlay\":{\"id\":\"28343f67-229d-4945-889d-97319f301eec\",\"type\":\"BoxAnnotation\"},\"plot\":{\"id\":\"ef8884ee-5670-4167-8591-9f6bf38028e3\",\"subtype\":\"Chart\",\"type\":\"Plot\"}},\"id\":\"9c1f04ba-2584-4a81-b9b6-99ac33650942\",\"type\":\"BoxZoomTool\"},{\"attributes\":{\"fill_alpha\":{\"value\":0.7},\"fill_color\":{\"value\":\"#5ab738\"},\"line_color\":{\"value\":\"#5ab738\"},\"size\":{\"units\":\"screen\",\"value\":8},\"x\":{\"field\":\"x_values\"},\"y\":{\"field\":\"y_values\"}},\"id\":\"d788690b-9878-43a7-b610-c93b6ddd8a6f\",\"type\":\"Circle\"},{\"attributes\":{\"plot\":{\"id\":\"ef8884ee-5670-4167-8591-9f6bf38028e3\",\"subtype\":\"Chart\",\"type\":\"Plot\"}},\"id\":\"2feff498-4ae6-4660-8838-66d996eba285\",\"type\":\"HelpTool\"},{\"attributes\":{\"below\":[{\"id\":\"433dfa1f-a535-49c0-b08e-87fe599893b1\",\"type\":\"LinearAxis\"}],\"left\":[{\"id\":\"99335d07-8555-4daa-b8fb-0928131b1dbe\",\"type\":\"LinearAxis\"}],\"renderers\":[{\"id\":\"28343f67-229d-4945-889d-97319f301eec\",\"type\":\"BoxAnnotation\"},{\"id\":\"76292e85-d824-47b9-9b35-707c104831af\",\"type\":\"GlyphRenderer\"},{\"id\":\"635a73e3-c350-4381-84de-d57111432515\",\"type\":\"GlyphRenderer\"},{\"id\":\"4046e22a-0a34-44fa-8478-e821445539e2\",\"type\":\"Legend\"},{\"id\":\"433dfa1f-a535-49c0-b08e-87fe599893b1\",\"type\":\"LinearAxis\"},{\"id\":\"99335d07-8555-4daa-b8fb-0928131b1dbe\",\"type\":\"LinearAxis\"},{\"id\":\"6748b31d-32a3-415e-9c42-ac3d95f5d4dc\",\"type\":\"Grid\"},{\"id\":\"279e0297-17aa-476e-9506-23805626a0c4\",\"type\":\"Grid\"}],\"title\":{\"id\":\"1cb7f703-6074-40b9-9181-5f4baaf8a3ea\",\"type\":\"Title\"},\"tool_events\":{\"id\":\"9bc767e0-fb6d-408b-898a-305856e1a270\",\"type\":\"ToolEvents\"},\"toolbar\":{\"id\":\"943d70ce-83d8-451f-8dc1-18c06a69420f\",\"type\":\"Toolbar\"},\"x_mapper_type\":\"auto\",\"x_range\":{\"id\":\"8c75e626-9d29-4954-befb-0c343f80ac2b\",\"type\":\"Range1d\"},\"y_mapper_type\":\"auto\",\"y_range\":{\"id\":\"14a6531b-9b28-4ecf-ae85-c10efccbcd6b\",\"type\":\"Range1d\"}},\"id\":\"ef8884ee-5670-4167-8591-9f6bf38028e3\",\"subtype\":\"Chart\",\"type\":\"Plot\"},{\"attributes\":{\"plot\":{\"id\":\"ef8884ee-5670-4167-8591-9f6bf38028e3\",\"subtype\":\"Chart\",\"type\":\"Plot\"}},\"id\":\"87c09d2a-dc2b-4cab-a77f-37c1c4f6298b\",\"type\":\"WheelZoomTool\"}],\"root_ids\":[\"ef8884ee-5670-4167-8591-9f6bf38028e3\"]},\"title\":\"Bokeh Application\",\"version\":\"0.12.0\"}};\n",
       "            var render_items = [{\"docid\":\"22e37e66-13ce-4967-87e2-38f4d205f930\",\"elementid\":\"77abaaaa-22d4-42df-901a-7ffbbb792ba2\",\"modelid\":\"ef8884ee-5670-4167-8591-9f6bf38028e3\",\"notebook_comms_target\":\"a04e99d1-b635-4456-8f35-766599f00378\"}];\n",
       "            \n",
       "            Bokeh.embed.embed_items(docs_json, render_items);\n",
       "        });\n",
       "      },\n",
       "      function(Bokeh) {\n",
       "      }\n",
       "    ];\n",
       "  \n",
       "    function run_inline_js() {\n",
       "      for (var i = 0; i < inline_js.length; i++) {\n",
       "        inline_js[i](window.Bokeh);\n",
       "      }\n",
       "    }\n",
       "  \n",
       "    if (window._bokeh_is_loading === 0) {\n",
       "      console.log(\"Bokeh: BokehJS loaded, going straight to plotting\");\n",
       "      run_inline_js();\n",
       "    } else {\n",
       "      load_libs(js_urls, function() {\n",
       "        console.log(\"Bokeh: BokehJS plotting callback run at\", now());\n",
       "        run_inline_js();\n",
       "      });\n",
       "    }\n",
       "  }(this));\n",
       "</script>"
      ]
     },
     "metadata": {},
     "output_type": "display_data"
    },
    {
     "data": {
      "text/html": [
       "<p><code>&lt;Bokeh Notebook handle for <strong>In[18]</strong>&gt;</code></p>"
      ],
      "text/plain": [
       "<bokeh.io._CommsHandle at 0x104852a58>"
      ]
     },
     "execution_count": 18,
     "metadata": {},
     "output_type": "execute_result"
    }
   ],
   "source": [
    "# Train Data Plot\n",
    "distance = cosine_distances(X)\n",
    "pos = mds.fit_transform(distance)\n",
    "vis_df = pd.DataFrame({'x':pos[:,0], 'y':pos[:,1], 'label':y})\n",
    "show(Scatter(vis_df, x='x', y='y', color='label', title='Labeled Feature Space'))"
   ]
  },
  {
   "cell_type": "code",
   "execution_count": 19,
   "metadata": {
    "collapsed": false
   },
   "outputs": [
    {
     "name": "stdout",
     "output_type": "stream",
     "text": [
      "             precision    recall  f1-score   support\n",
      "\n",
      "          0       0.67      0.67      0.67         9\n",
      "          1       0.25      0.25      0.25         4\n",
      "\n",
      "avg / total       0.54      0.54      0.54        13\n",
      "\n"
     ]
    },
    {
     "data": {
      "image/png": "[encoded data removed]",
      "text/plain": [
       "<matplotlib.figure.Figure at 0x10ce53cf8>"
      ]
     },
     "metadata": {},
     "output_type": "display_data"
    }
   ],
   "source": [
    "# Linear Model Attempt\n",
    "log_reg = LogisticRegressionCV(Cs=20)\n",
    "log_reg.fit(X_train, y_train)\n",
    "y_pred = log_reg.predict(X_test)\n",
    "report = classification_report(y_test, y_pred)\n",
    "#cm = ConfusionMatrix(y_test, y_pred)\n",
    "\n",
    "print(report)\n",
    "#cm.plot(backend='seaborn')\n",
    "plt.title('Logistic Regression Confusion Matrix')\n",
    "plt.show()"
   ]
  },
  {
   "cell_type": "code",
   "execution_count": 20,
   "metadata": {
    "collapsed": false
   },
   "outputs": [
    {
     "name": "stdout",
     "output_type": "stream",
     "text": [
      "             precision    recall  f1-score   support\n",
      "\n",
      "          0       0.75      0.33      0.46         9\n",
      "          1       0.33      0.75      0.46         4\n",
      "\n",
      "avg / total       0.62      0.46      0.46        13\n",
      "\n"
     ]
    },
    {
     "data": {
      "image/png": "[encoded data removed]",
      "text/plain": [
       "<matplotlib.figure.Figure at 0x10ce60160>"
      ]
     },
     "metadata": {},
     "output_type": "display_data"
    }
   ],
   "source": [
    "# Random Forest Attempt\n",
    "rf = RandomForestClassifier(n_estimators=30, random_state=42)\n",
    "rf.fit(X_train, y_train)\n",
    "y_pred = rf.predict(X_test)\n",
    "report = classification_report(y_test, y_pred)\n",
    "#cm = ConfusionMatrix(y_test, y_pred)\n",
    "\n",
    "print(report)\n",
    "#cm.plot(backend='seaborn')\n",
    "plt.title('Random Forest Confusion Matrix')\n",
    "plt.show()"
   ]
  },
  {
   "cell_type": "markdown",
   "metadata": {
    "collapsed": true
   },
   "source": [
    "# Conclusions\n",
    "\n",
    "While we were able to precisely classify posts into topics, we were unable to figure out a way to predict whether the market would move up or down given a post belongs to topic 0 (economy-related). We were able to find a significant difference in mean proportion change when comparing the economic topic to all the others. There seems to be something going on there but we were unable to pull it out. It may just be due to how LDA created the topics or some other factors of which we are unaware. It would be interesting to dive deeper into that and see why that difference exists.\n",
    "\n",
    "\n",
    "When diving into the articles that make up the economy-related topic, we were unable to make effective predictions on what direction the posts would make the market move. Our lack of finding could be due to many reasons. For example, our design choices when determining the feature space could inhibit our ability to finding clusters. Another pitfall is our lack of data. Due to the fact that President Trump has only been in office a bit more than 100 days, we have a limited dataset with which to work.\n",
    "\n",
    "It would be great to revisit this project a year in to Trump's presidency to see if we can get better results. "
   ]
  },
  {
   "cell_type": "code",
   "execution_count": null,
   "metadata": {
    "collapsed": true
   },
   "outputs": [],
   "source": [
    "# Submit the data and notebook to Professor Nelson"
   ]
  },
  {
   "cell_type": "markdown",
   "metadata": {},
   "source": [
    "# Further Investigation into Tweet Trader"
   ]
  },
  {
   "cell_type": "code",
   "execution_count": null,
   "metadata": {
    "collapsed": false
   },
   "outputs": [],
   "source": [
    "from datetime import datetime\n",
    "from re import sub\n",
    "tweets_data = pd.read_csv('data/trump_tweets.csv')\n",
    "\n",
    "tweets_data['Date'] = tweets_data['Date'].apply(lambda s: datetime.strptime(s.split()[0], '%Y-%m-%d'))\n",
    "tweets_data = tweets_data[tweets_data['Date'] > datetime.strptime('2016-12-25', '%Y-%m-%d')]\n",
    "tweets_data['Date'] = tweets_data['Date'].apply(lambda s: datetime.strftime(s, '%Y-%m-%d'))\n",
    "tweets_data = pd.merge(tweets_data, mean_values_df, on='Date', how='inner').dropna()\n",
    "\n",
    "tweets_data['Text'] = tweets_data['Text'].str.replace('[^a-zA-Z ]', ' ').str.lower()tweets_data"
   ]
  },
  {
   "cell_type": "code",
   "execution_count": null,
   "metadata": {
    "collapsed": false
   },
   "outputs": [],
   "source": [
    "tweets_vectorizer = CountVectorizer(stop_words='english', min_df=0.01, max_df=0.8)\n",
    "tweets_dtm = tweets_vectorizer.fit_transform(tweets_data['Text'])"
   ]
  },
  {
   "cell_type": "code",
   "execution_count": null,
   "metadata": {
    "collapsed": false
   },
   "outputs": [],
   "source": [
    "distances = cosine_distances(tweets_dtm)\n",
    "mds = MDS(n_components=2, dissimilarity='precomputed')\n",
    "pos = mds.fit_transform(distances)"
   ]
  },
  {
   "cell_type": "code",
   "execution_count": null,
   "metadata": {
    "collapsed": false
   },
   "outputs": [],
   "source": [
    "lda = LatentDirichletAllocation(n_topics=7, random_state=42, learning_method='online')\n",
    "topic_scores = lda.fit_transform(tweets_dtm)\n",
    "labels = np.argmax(topic_scores, axis=1)\n",
    "tweets_data['Topic Label'] = labels\n",
    "\n",
    "print_top_words(lda, tweets_vectorizer.get_feature_names(), 20)\n",
    "\n",
    "lda_df = {'x':pos[:, 0], 'y':pos[:,1], 'label':labels}\n",
    "show(Scatter(lda_df, x='x', y='y', color='label', title='LDA Clusters - Trump'))"
   ]
  },
  {
   "cell_type": "markdown",
   "metadata": {},
   "source": [
    "It seems like everything but topic 2 seems interesting..."
   ]
  },
  {
   "cell_type": "code",
   "execution_count": null,
   "metadata": {
    "collapsed": false
   },
   "outputs": [],
   "source": [
    "sb.boxplot(x=\"Topic Label\", y=\"Filtered Mean Proportion\", data=tweets_data)\n",
    "plt.title('Filtered Mean Proportion Box Plot')\n",
    "plt.show()"
   ]
  },
  {
   "cell_type": "code",
   "execution_count": null,
   "metadata": {
    "collapsed": false,
    "scrolled": true
   },
   "outputs": [],
   "source": [
    "dates = [None]\n",
    "text = []\n",
    "fmp = []\n",
    "fmd = []\n",
    "for index, row in tweets_data.iterrows():\n",
    "    if row['Topic Label'] == 2:\n",
    "        continue\n",
    "    if row['Date'] == dates[-1]:\n",
    "        text[-1] = text[-1] + ' ' + row['Text']\n",
    "    else:\n",
    "        dates.append(row['Date'])\n",
    "        fmp.append(row['Filtered Mean Proportion'])\n",
    "        fmd.append(row['Filtered Mean Delta'])\n",
    "        text.append(row['Text'])\n",
    "        \n",
    "tweets_df = pd.DataFrame({'Date': dates[1:], 'Text': text, \n",
    "                         'Filtered Mean Proportion': fmp, 'Filtered Mean Delta': fmd})[['Date', 'Text',\n",
    "                                                                                        'Filtered Mean Proportion','Filtered Mean Delta']]\n",
    "tweets_df['Label'] = tweets_df['Filtered Mean Proportion'].apply(lambda x: 1 if x >= 0 else 0)\n",
    "tweets_df"
   ]
  },
  {
   "cell_type": "code",
   "execution_count": null,
   "metadata": {
    "collapsed": true
   },
   "outputs": [],
   "source": [
    "X, y = tweets_vectorizer.fit_transform(tweets_df['Text']), tweets_df['Label']\n",
    "X_train, X_test, y_train, y_test = tts(X, y)"
   ]
  },
  {
   "cell_type": "code",
   "execution_count": null,
   "metadata": {
    "collapsed": false
   },
   "outputs": [],
   "source": [
    "distance = cosine_distances(X)\n",
    "pos = mds.fit_transform(distance)\n",
    "vis_df = pd.DataFrame({'x':pos[:,0], 'y':pos[:,1], 'label':y})\n",
    "show(Scatter(vis_df, x='x', y='y', color='label', title='Labeled Feature Space'))"
   ]
  },
  {
   "cell_type": "code",
   "execution_count": null,
   "metadata": {
    "collapsed": false
   },
   "outputs": [],
   "source": [
    "# Linear Model Attempt\n",
    "log_reg = LogisticRegressionCV(Cs=20)\n",
    "log_reg.fit(X_train, y_train)\n",
    "y_pred = log_reg.predict(X_test)\n",
    "report = classification_report(y_test, y_pred)\n",
    "cm = ConfusionMatrix(y_test, y_pred)\n",
    "\n",
    "print(report)\n",
    "cm.plot(backend='seaborn')\n",
    "plt.title('Logistic Regression Confusion Matrix')\n",
    "plt.show()"
   ]
  },
  {
   "cell_type": "code",
   "execution_count": null,
   "metadata": {
    "collapsed": false
   },
   "outputs": [],
   "source": [
    "# Random Forest Attempt\n",
    "rf = RandomForestClassifier(n_estimators=30)\n",
    "rf.fit(X_train, y_train)\n",
    "y_pred = rf.predict(X_test)\n",
    "report = classification_report(y_test, y_pred)\n",
    "cm = ConfusionMatrix(y_test, y_pred)\n",
    "\n",
    "print(report)\n",
    "cm.plot(backend='seaborn')\n",
    "plt.title('Random Forest Confusion Matrix')\n",
    "plt.show()"
   ]
  },
  {
   "cell_type": "markdown",
   "metadata": {
    "collapsed": true
   },
   "source": [
    "# Twitter Bot Conclusion\n",
    "\n",
    "Trump may have very pointed influence on with low frequency on the stock market as opposed to long term content based correlation."
   ]
  },
  {
   "cell_type": "code",
   "execution_count": null,
   "metadata": {
    "collapsed": true
   },
   "outputs": [],
   "source": []
  }
 ],
 "metadata": {
  "kernelspec": {
   "display_name": "Python 3",
   "language": "python",
   "name": "python 3"
  },
  "language_info": {
   "codemirror_mode": {
    "name": "ipython",
    "version": 3
   },
   "file_extension": ".py",
   "mimetype": "text/x-python",
   "name": "python",
   "nbconvert_exporter": "python",
   "pygments_lexer": "ipython3",
   "version": "3.5.2"
  }
 },
 "nbformat": 4,
 "nbformat_minor": 1
}
